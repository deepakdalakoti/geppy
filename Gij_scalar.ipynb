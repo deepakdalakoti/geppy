{
 "cells": [
  {
   "cell_type": "code",
   "execution_count": 1,
   "metadata": {},
   "outputs": [
    {
     "name": "stdout",
     "output_type": "stream",
     "text": [
      "The module graphviz is not available, on which geepy.export_expression_tree depends.\n",
      "                The geepy.graph function will not be visible until this module is installed. \n",
      "                To install graphviz, please check https://pypi.org/project/graphviz/.\n"
     ]
    }
   ],
   "source": [
    "import numpy as np\n",
    "import pandas as pd\n",
    "%matplotlib notebook\n",
    "import matplotlib.pyplot as plt\n",
    "from sklearn.metrics import mean_squared_error\n",
    "from mpl_toolkits.mplot3d import axes3d, Axes3D \n",
    "from sklearn.metrics import r2_score\n",
    "import os\n",
    "import time\n",
    "os.environ[\"PATH\"] += \"/home/dalakoti/geppy\"\n",
    "import geppy as gep\n",
    "import operator\n",
    "from deap import tools, creator, base \n",
    "import random\n",
    "import sympy as sp\n",
    "from sklearn.linear_model import LinearRegression as LR\n",
    "from scipy.signal import savgol_filter\n",
    "import matplotlib.ticker as ticker\n",
    "from sklearn.preprocessing import StandardScaler\n",
    "\n",
    "\n",
    "#from numpy import exp\n"
   ]
  },
  {
   "cell_type": "code",
   "execution_count": 11,
   "metadata": {},
   "outputs": [],
   "source": [
    "Gij = np.loadtxt('../GLM/scalar/Gij.dat')\n",
    "Tij = np.loadtxt('../GLM/scalar/Tij.dat')\n",
    "K   = np.loadtxt('../GLM/scalar/k-eps.dat')\n",
    "Sij   = np.loadtxt('../GLM/scalar/Sij.dat')\n",
    "omega = np.loadtxt('../GLM/scalar/omega.dat')\n",
    "meanVelGrad = np.loadtxt('../GLM/scalar/mean_vel_grad.dat')\n",
    "utheta = np.loadtxt('../GLM/scalar/utheta.dat')\n",
    "axi = np.loadtxt('../GLM/scalar/axi.dat')\n",
    "uxi = np.loadtxt('../GLM/scalar/uxi.dat')\n",
    "xiP = np.loadtxt('../GLM/scalar/xiP.dat')\n",
    "xitau = np.loadtxt('../GLM/scalar/xitau.dat')\n",
    "Reyn = np.loadtxt('../GLM/scalar/Reyn.dat')\n",
    "\n",
    "xc = np.linspace(0,1,K.shape[0])\n",
    "loend = 150\n",
    "hiend = 450\n",
    "xc = xc[loend:hiend]\n",
    "\n",
    "\n",
    "eps = np.copy(K[:,1])\n",
    "K   = K[:,0]\n",
    "\n",
    "Gij = Gij[loend:hiend,:]\n",
    "Tij = Tij[loend:hiend,:]\n",
    "meanVelGrad = meanVelGrad[loend:hiend,:]\n",
    "eps = eps[loend:hiend]\n",
    "K = K[loend:hiend]\n",
    "omega = omega[loend:hiend,:]\n",
    "Sij = Sij[loend:hiend,:]\n",
    "axi = axi[loend:hiend,:]\n",
    "uxi = uxi[loend:hiend,:]\n",
    "xiP = xiP[loend:hiend,:]\n",
    "utheta = utheta[loend:hiend,:]\n",
    "xitau = xitau[loend:hiend,:]\n",
    "Reyn = Reyn[loend:hiend]\n",
    "\n",
    "b = np.copy(Tij)\n",
    "b[:,0] = b[:,0]-2.0*K/3.0\n",
    "b[:,4] = b[:,4]-2.0*K/3.0\n",
    "b[:,8] = b[:,8]-2.0*K/3.0\n",
    "tau = K/eps"
   ]
  },
  {
   "cell_type": "code",
   "execution_count": null,
   "metadata": {},
   "outputs": [],
   "source": [
    "Gij = Gij/1e5"
   ]
  },
  {
   "cell_type": "code",
   "execution_count": null,
   "metadata": {},
   "outputs": [],
   "source": [
    "plt.figure()\n",
    "plt.plot(Gij[:,2])"
   ]
  },
  {
   "cell_type": "code",
   "execution_count": null,
   "metadata": {},
   "outputs": [],
   "source": [
    "#Isotropic turbulence case\n",
    "Gij = np.loadtxt('../GLM/iso/Gij.dat')\n",
    "Tij = np.loadtxt('../GLM/iso/Tij.dat')\n",
    "K   = np.loadtxt('../GLM/iso/k-eps.dat')\n",
    "eps = K[:,1]\n",
    "K   = K[:,0]\n",
    "Sij   = np.loadtxt('../GLM/iso/Sij.dat')\n",
    "omega = np.loadtxt('../GLM/iso/omega.dat')\n",
    "meanVelGrad = np.loadtxt('../GLM/iso/mean_vel_grad.dat')\n",
    "b = np.copy(Tij)\n",
    "b[:,0] = b[:,0]-2.0*K/3.0\n",
    "b[:,4] = b[:,4]-2.0*K/3.0\n",
    "b[:,8] = b[:,8]-2.0*K/3.0\n",
    "tau = K/eps\n",
    "#Gij = 0 \n"
   ]
  },
  {
   "cell_type": "code",
   "execution_count": null,
   "metadata": {},
   "outputs": [],
   "source": [
    "Gij.shape"
   ]
  },
  {
   "cell_type": "code",
   "execution_count": 12,
   "metadata": {},
   "outputs": [],
   "source": [
    "tempij = np.loadtxt('../GLM/scalar/Tij.dat')\n",
    "tempij = np.reshape(tempij,(tempij.shape[0],3,3))\n",
    "lambdaij = np.zeros((tempij.shape[0],3,3))\n",
    "for i in range(0,lambdaij.shape[0]):\n",
    "    lambdaij[i,:,:] = np.linalg.inv(tempij[i,:,:])\n",
    "lambdaij = lambdaij[loend:hiend,:,:]\n",
    "#lambdaij = lambdaij*K[:,None,None]"
   ]
  },
  {
   "cell_type": "code",
   "execution_count": null,
   "metadata": {},
   "outputs": [],
   "source": [
    "sz = 11\n",
    "for i in range(0,9):\n",
    "    Gij[:,i] = savgol_filter(Gij[:,i], sz, 3) # window size 51, polynomial order 3\n",
    "    meanVelGrad[:,i] = savgol_filter(meanVelGrad[:,i], 11, 3) # window size 51, polynomial order 3\n",
    "    Tij[:,i] = savgol_filter(Tij[:,i], sz, 3) # window size 51, polynomial order 3\n",
    "    omega[:,i] = savgol_filter(omega[:,i], sz, 3) # window size 51, polynomial order 3\n",
    "    Sij[:,i] = savgol_filter(Sij[:,i], sz, 3) # window size 51, polynomial order 3\n",
    "    b[:,i] = savgol_filter(b[:,i], sz, 3) # window size 51, polynomial order 3\n",
    "    #lambdaij[:,i] = savgol_filter(lambdaij[:,i], sz, 3) # window size 51, polynomial order 3\n",
    "K = savgol_filter(K, sz, 3) # window size 51, polynomial order 3\n",
    "eps = savgol_filter(eps, sz, 3) # window size 51, polynomial order 3"
   ]
  },
  {
   "cell_type": "code",
   "execution_count": 13,
   "metadata": {},
   "outputs": [],
   "source": [
    "Gij = np.reshape(Gij,(Gij.shape[0],3,3))\n",
    "Tij = np.reshape(Tij,(Tij.shape[0],3,3))\n",
    "#axi = np.reshape(axi,(axi.shape[0],3,3))\n",
    "#uxi = np.reshape(uxi,(uxi.shape[0],3,3))\n",
    "#utheta = np.reshape(utheta,(utheta.shape[0],3,3))\n",
    "\n",
    "meanVelGrad = np.reshape(meanVelGrad,(meanVelGrad.shape[0],3,3))\n",
    "Sij = np.reshape(Sij,(Sij.shape[0],3,3))\n",
    "omega = np.reshape(omega,(omega.shape[0],3,3))\n",
    "b = np.reshape(b,(b.shape[0],3,3))\n",
    "detT = np.zeros(b.shape[0])\n",
    "I2 = np.zeros(b.shape[0])\n",
    "for i in range(0,b.shape[0]):\n",
    "    detT[i] = 1.0/np.linalg.det(Tij[i,:,:])\n",
    "    I2[i] = 0.5*(np.trace(Tij[i,:,:])**2 - np.trace(np.matmul(Tij[i,:,:],Tij[i,:,:])))"
   ]
  },
  {
   "cell_type": "code",
   "execution_count": null,
   "metadata": {},
   "outputs": [],
   "source": [
    "G.shape"
   ]
  },
  {
   "cell_type": "code",
   "execution_count": null,
   "metadata": {},
   "outputs": [],
   "source": [
    "plt.figure()\n",
    "l = 2\n",
    "plt.plot(LSSG[l,0,:]*uxi[:,0]+LSSG[l,1,:]*uxi[:,1]+LSSG[l,2,:]*uxi[:,2])\n",
    "plt.plot(LIPM[l,0,:]*uxi[:,0]+LIPM[l,1,:]*uxi[:,1]+LIPM[l,2,:]*uxi[:,2])\n",
    "#plt.plot((G[:,l,0]*uxi[:,0]+G[:,l,1]*uxi[:,1]+G[:,l,2]*uxi[:,2]))\n",
    "plt.plot(axi[:,l])"
   ]
  },
  {
   "cell_type": "code",
   "execution_count": null,
   "metadata": {},
   "outputs": [],
   "source": [
    "G  = Gij - 1.5*eps[:,None,None]*lambdaij"
   ]
  },
  {
   "cell_type": "code",
   "execution_count": 15,
   "metadata": {},
   "outputs": [
    {
     "name": "stderr",
     "output_type": "stream",
     "text": [
      "/usr/local/lib/python3.6/dist-packages/ipykernel_launcher.py:3: RuntimeWarning: invalid value encountered in true_divide\n",
      "  This is separate from the ipykernel package so we can avoid doing imports until\n"
     ]
    }
   ],
   "source": [
    "C0 = np.zeros((K.shape[0],3))\n",
    "for i in range(0,3):\n",
    "    C0[:,i] = 2.0*(Gij[:,i,0]*uxi[:,0]+Gij[:,i,1]*uxi[:,1]+Gij[:,i,2]*uxi[:,2]-axi[:,i])/(eps*(lambdaij[:,i,0]*uxi[:,0]+lambdaij[:,i,1]*uxi[:,1]+lambdaij[:,i,2]*uxi[:,2]))\n"
   ]
  },
  {
   "cell_type": "code",
   "execution_count": null,
   "metadata": {},
   "outputs": [],
   "source": [
    "meanVelGrad.shape"
   ]
  },
  {
   "cell_type": "code",
   "execution_count": 16,
   "metadata": {},
   "outputs": [
    {
     "data": {
      "application/javascript": [
       "/* Put everything inside the global mpl namespace */\n",
       "window.mpl = {};\n",
       "\n",
       "\n",
       "mpl.get_websocket_type = function() {\n",
       "    if (typeof(WebSocket) !== 'undefined') {\n",
       "        return WebSocket;\n",
       "    } else if (typeof(MozWebSocket) !== 'undefined') {\n",
       "        return MozWebSocket;\n",
       "    } else {\n",
       "        alert('Your browser does not have WebSocket support. ' +\n",
       "              'Please try Chrome, Safari or Firefox ≥ 6. ' +\n",
       "              'Firefox 4 and 5 are also supported but you ' +\n",
       "              'have to enable WebSockets in about:config.');\n",
       "    };\n",
       "}\n",
       "\n",
       "mpl.figure = function(figure_id, websocket, ondownload, parent_element) {\n",
       "    this.id = figure_id;\n",
       "\n",
       "    this.ws = websocket;\n",
       "\n",
       "    this.supports_binary = (this.ws.binaryType != undefined);\n",
       "\n",
       "    if (!this.supports_binary) {\n",
       "        var warnings = document.getElementById(\"mpl-warnings\");\n",
       "        if (warnings) {\n",
       "            warnings.style.display = 'block';\n",
       "            warnings.textContent = (\n",
       "                \"This browser does not support binary websocket messages. \" +\n",
       "                    \"Performance may be slow.\");\n",
       "        }\n",
       "    }\n",
       "\n",
       "    this.imageObj = new Image();\n",
       "\n",
       "    this.context = undefined;\n",
       "    this.message = undefined;\n",
       "    this.canvas = undefined;\n",
       "    this.rubberband_canvas = undefined;\n",
       "    this.rubberband_context = undefined;\n",
       "    this.format_dropdown = undefined;\n",
       "\n",
       "    this.image_mode = 'full';\n",
       "\n",
       "    this.root = $('<div/>');\n",
       "    this._root_extra_style(this.root)\n",
       "    this.root.attr('style', 'display: inline-block');\n",
       "\n",
       "    $(parent_element).append(this.root);\n",
       "\n",
       "    this._init_header(this);\n",
       "    this._init_canvas(this);\n",
       "    this._init_toolbar(this);\n",
       "\n",
       "    var fig = this;\n",
       "\n",
       "    this.waiting = false;\n",
       "\n",
       "    this.ws.onopen =  function () {\n",
       "            fig.send_message(\"supports_binary\", {value: fig.supports_binary});\n",
       "            fig.send_message(\"send_image_mode\", {});\n",
       "            if (mpl.ratio != 1) {\n",
       "                fig.send_message(\"set_dpi_ratio\", {'dpi_ratio': mpl.ratio});\n",
       "            }\n",
       "            fig.send_message(\"refresh\", {});\n",
       "        }\n",
       "\n",
       "    this.imageObj.onload = function() {\n",
       "            if (fig.image_mode == 'full') {\n",
       "                // Full images could contain transparency (where diff images\n",
       "                // almost always do), so we need to clear the canvas so that\n",
       "                // there is no ghosting.\n",
       "                fig.context.clearRect(0, 0, fig.canvas.width, fig.canvas.height);\n",
       "            }\n",
       "            fig.context.drawImage(fig.imageObj, 0, 0);\n",
       "        };\n",
       "\n",
       "    this.imageObj.onunload = function() {\n",
       "        fig.ws.close();\n",
       "    }\n",
       "\n",
       "    this.ws.onmessage = this._make_on_message_function(this);\n",
       "\n",
       "    this.ondownload = ondownload;\n",
       "}\n",
       "\n",
       "mpl.figure.prototype._init_header = function() {\n",
       "    var titlebar = $(\n",
       "        '<div class=\"ui-dialog-titlebar ui-widget-header ui-corner-all ' +\n",
       "        'ui-helper-clearfix\"/>');\n",
       "    var titletext = $(\n",
       "        '<div class=\"ui-dialog-title\" style=\"width: 100%; ' +\n",
       "        'text-align: center; padding: 3px;\"/>');\n",
       "    titlebar.append(titletext)\n",
       "    this.root.append(titlebar);\n",
       "    this.header = titletext[0];\n",
       "}\n",
       "\n",
       "\n",
       "\n",
       "mpl.figure.prototype._canvas_extra_style = function(canvas_div) {\n",
       "\n",
       "}\n",
       "\n",
       "\n",
       "mpl.figure.prototype._root_extra_style = function(canvas_div) {\n",
       "\n",
       "}\n",
       "\n",
       "mpl.figure.prototype._init_canvas = function() {\n",
       "    var fig = this;\n",
       "\n",
       "    var canvas_div = $('<div/>');\n",
       "\n",
       "    canvas_div.attr('style', 'position: relative; clear: both; outline: 0');\n",
       "\n",
       "    function canvas_keyboard_event(event) {\n",
       "        return fig.key_event(event, event['data']);\n",
       "    }\n",
       "\n",
       "    canvas_div.keydown('key_press', canvas_keyboard_event);\n",
       "    canvas_div.keyup('key_release', canvas_keyboard_event);\n",
       "    this.canvas_div = canvas_div\n",
       "    this._canvas_extra_style(canvas_div)\n",
       "    this.root.append(canvas_div);\n",
       "\n",
       "    var canvas = $('<canvas/>');\n",
       "    canvas.addClass('mpl-canvas');\n",
       "    canvas.attr('style', \"left: 0; top: 0; z-index: 0; outline: 0\")\n",
       "\n",
       "    this.canvas = canvas[0];\n",
       "    this.context = canvas[0].getContext(\"2d\");\n",
       "\n",
       "    var backingStore = this.context.backingStorePixelRatio ||\n",
       "\tthis.context.webkitBackingStorePixelRatio ||\n",
       "\tthis.context.mozBackingStorePixelRatio ||\n",
       "\tthis.context.msBackingStorePixelRatio ||\n",
       "\tthis.context.oBackingStorePixelRatio ||\n",
       "\tthis.context.backingStorePixelRatio || 1;\n",
       "\n",
       "    mpl.ratio = (window.devicePixelRatio || 1) / backingStore;\n",
       "\n",
       "    var rubberband = $('<canvas/>');\n",
       "    rubberband.attr('style', \"position: absolute; left: 0; top: 0; z-index: 1;\")\n",
       "\n",
       "    var pass_mouse_events = true;\n",
       "\n",
       "    canvas_div.resizable({\n",
       "        start: function(event, ui) {\n",
       "            pass_mouse_events = false;\n",
       "        },\n",
       "        resize: function(event, ui) {\n",
       "            fig.request_resize(ui.size.width, ui.size.height);\n",
       "        },\n",
       "        stop: function(event, ui) {\n",
       "            pass_mouse_events = true;\n",
       "            fig.request_resize(ui.size.width, ui.size.height);\n",
       "        },\n",
       "    });\n",
       "\n",
       "    function mouse_event_fn(event) {\n",
       "        if (pass_mouse_events)\n",
       "            return fig.mouse_event(event, event['data']);\n",
       "    }\n",
       "\n",
       "    rubberband.mousedown('button_press', mouse_event_fn);\n",
       "    rubberband.mouseup('button_release', mouse_event_fn);\n",
       "    // Throttle sequential mouse events to 1 every 20ms.\n",
       "    rubberband.mousemove('motion_notify', mouse_event_fn);\n",
       "\n",
       "    rubberband.mouseenter('figure_enter', mouse_event_fn);\n",
       "    rubberband.mouseleave('figure_leave', mouse_event_fn);\n",
       "\n",
       "    canvas_div.on(\"wheel\", function (event) {\n",
       "        event = event.originalEvent;\n",
       "        event['data'] = 'scroll'\n",
       "        if (event.deltaY < 0) {\n",
       "            event.step = 1;\n",
       "        } else {\n",
       "            event.step = -1;\n",
       "        }\n",
       "        mouse_event_fn(event);\n",
       "    });\n",
       "\n",
       "    canvas_div.append(canvas);\n",
       "    canvas_div.append(rubberband);\n",
       "\n",
       "    this.rubberband = rubberband;\n",
       "    this.rubberband_canvas = rubberband[0];\n",
       "    this.rubberband_context = rubberband[0].getContext(\"2d\");\n",
       "    this.rubberband_context.strokeStyle = \"#000000\";\n",
       "\n",
       "    this._resize_canvas = function(width, height) {\n",
       "        // Keep the size of the canvas, canvas container, and rubber band\n",
       "        // canvas in synch.\n",
       "        canvas_div.css('width', width)\n",
       "        canvas_div.css('height', height)\n",
       "\n",
       "        canvas.attr('width', width * mpl.ratio);\n",
       "        canvas.attr('height', height * mpl.ratio);\n",
       "        canvas.attr('style', 'width: ' + width + 'px; height: ' + height + 'px;');\n",
       "\n",
       "        rubberband.attr('width', width);\n",
       "        rubberband.attr('height', height);\n",
       "    }\n",
       "\n",
       "    // Set the figure to an initial 600x600px, this will subsequently be updated\n",
       "    // upon first draw.\n",
       "    this._resize_canvas(600, 600);\n",
       "\n",
       "    // Disable right mouse context menu.\n",
       "    $(this.rubberband_canvas).bind(\"contextmenu\",function(e){\n",
       "        return false;\n",
       "    });\n",
       "\n",
       "    function set_focus () {\n",
       "        canvas.focus();\n",
       "        canvas_div.focus();\n",
       "    }\n",
       "\n",
       "    window.setTimeout(set_focus, 100);\n",
       "}\n",
       "\n",
       "mpl.figure.prototype._init_toolbar = function() {\n",
       "    var fig = this;\n",
       "\n",
       "    var nav_element = $('<div/>');\n",
       "    nav_element.attr('style', 'width: 100%');\n",
       "    this.root.append(nav_element);\n",
       "\n",
       "    // Define a callback function for later on.\n",
       "    function toolbar_event(event) {\n",
       "        return fig.toolbar_button_onclick(event['data']);\n",
       "    }\n",
       "    function toolbar_mouse_event(event) {\n",
       "        return fig.toolbar_button_onmouseover(event['data']);\n",
       "    }\n",
       "\n",
       "    for(var toolbar_ind in mpl.toolbar_items) {\n",
       "        var name = mpl.toolbar_items[toolbar_ind][0];\n",
       "        var tooltip = mpl.toolbar_items[toolbar_ind][1];\n",
       "        var image = mpl.toolbar_items[toolbar_ind][2];\n",
       "        var method_name = mpl.toolbar_items[toolbar_ind][3];\n",
       "\n",
       "        if (!name) {\n",
       "            // put a spacer in here.\n",
       "            continue;\n",
       "        }\n",
       "        var button = $('<button/>');\n",
       "        button.addClass('ui-button ui-widget ui-state-default ui-corner-all ' +\n",
       "                        'ui-button-icon-only');\n",
       "        button.attr('role', 'button');\n",
       "        button.attr('aria-disabled', 'false');\n",
       "        button.click(method_name, toolbar_event);\n",
       "        button.mouseover(tooltip, toolbar_mouse_event);\n",
       "\n",
       "        var icon_img = $('<span/>');\n",
       "        icon_img.addClass('ui-button-icon-primary ui-icon');\n",
       "        icon_img.addClass(image);\n",
       "        icon_img.addClass('ui-corner-all');\n",
       "\n",
       "        var tooltip_span = $('<span/>');\n",
       "        tooltip_span.addClass('ui-button-text');\n",
       "        tooltip_span.html(tooltip);\n",
       "\n",
       "        button.append(icon_img);\n",
       "        button.append(tooltip_span);\n",
       "\n",
       "        nav_element.append(button);\n",
       "    }\n",
       "\n",
       "    var fmt_picker_span = $('<span/>');\n",
       "\n",
       "    var fmt_picker = $('<select/>');\n",
       "    fmt_picker.addClass('mpl-toolbar-option ui-widget ui-widget-content');\n",
       "    fmt_picker_span.append(fmt_picker);\n",
       "    nav_element.append(fmt_picker_span);\n",
       "    this.format_dropdown = fmt_picker[0];\n",
       "\n",
       "    for (var ind in mpl.extensions) {\n",
       "        var fmt = mpl.extensions[ind];\n",
       "        var option = $(\n",
       "            '<option/>', {selected: fmt === mpl.default_extension}).html(fmt);\n",
       "        fmt_picker.append(option);\n",
       "    }\n",
       "\n",
       "    // Add hover states to the ui-buttons\n",
       "    $( \".ui-button\" ).hover(\n",
       "        function() { $(this).addClass(\"ui-state-hover\");},\n",
       "        function() { $(this).removeClass(\"ui-state-hover\");}\n",
       "    );\n",
       "\n",
       "    var status_bar = $('<span class=\"mpl-message\"/>');\n",
       "    nav_element.append(status_bar);\n",
       "    this.message = status_bar[0];\n",
       "}\n",
       "\n",
       "mpl.figure.prototype.request_resize = function(x_pixels, y_pixels) {\n",
       "    // Request matplotlib to resize the figure. Matplotlib will then trigger a resize in the client,\n",
       "    // which will in turn request a refresh of the image.\n",
       "    this.send_message('resize', {'width': x_pixels, 'height': y_pixels});\n",
       "}\n",
       "\n",
       "mpl.figure.prototype.send_message = function(type, properties) {\n",
       "    properties['type'] = type;\n",
       "    properties['figure_id'] = this.id;\n",
       "    this.ws.send(JSON.stringify(properties));\n",
       "}\n",
       "\n",
       "mpl.figure.prototype.send_draw_message = function() {\n",
       "    if (!this.waiting) {\n",
       "        this.waiting = true;\n",
       "        this.ws.send(JSON.stringify({type: \"draw\", figure_id: this.id}));\n",
       "    }\n",
       "}\n",
       "\n",
       "\n",
       "mpl.figure.prototype.handle_save = function(fig, msg) {\n",
       "    var format_dropdown = fig.format_dropdown;\n",
       "    var format = format_dropdown.options[format_dropdown.selectedIndex].value;\n",
       "    fig.ondownload(fig, format);\n",
       "}\n",
       "\n",
       "\n",
       "mpl.figure.prototype.handle_resize = function(fig, msg) {\n",
       "    var size = msg['size'];\n",
       "    if (size[0] != fig.canvas.width || size[1] != fig.canvas.height) {\n",
       "        fig._resize_canvas(size[0], size[1]);\n",
       "        fig.send_message(\"refresh\", {});\n",
       "    };\n",
       "}\n",
       "\n",
       "mpl.figure.prototype.handle_rubberband = function(fig, msg) {\n",
       "    var x0 = msg['x0'] / mpl.ratio;\n",
       "    var y0 = (fig.canvas.height - msg['y0']) / mpl.ratio;\n",
       "    var x1 = msg['x1'] / mpl.ratio;\n",
       "    var y1 = (fig.canvas.height - msg['y1']) / mpl.ratio;\n",
       "    x0 = Math.floor(x0) + 0.5;\n",
       "    y0 = Math.floor(y0) + 0.5;\n",
       "    x1 = Math.floor(x1) + 0.5;\n",
       "    y1 = Math.floor(y1) + 0.5;\n",
       "    var min_x = Math.min(x0, x1);\n",
       "    var min_y = Math.min(y0, y1);\n",
       "    var width = Math.abs(x1 - x0);\n",
       "    var height = Math.abs(y1 - y0);\n",
       "\n",
       "    fig.rubberband_context.clearRect(\n",
       "        0, 0, fig.canvas.width / mpl.ratio, fig.canvas.height / mpl.ratio);\n",
       "\n",
       "    fig.rubberband_context.strokeRect(min_x, min_y, width, height);\n",
       "}\n",
       "\n",
       "mpl.figure.prototype.handle_figure_label = function(fig, msg) {\n",
       "    // Updates the figure title.\n",
       "    fig.header.textContent = msg['label'];\n",
       "}\n",
       "\n",
       "mpl.figure.prototype.handle_cursor = function(fig, msg) {\n",
       "    var cursor = msg['cursor'];\n",
       "    switch(cursor)\n",
       "    {\n",
       "    case 0:\n",
       "        cursor = 'pointer';\n",
       "        break;\n",
       "    case 1:\n",
       "        cursor = 'default';\n",
       "        break;\n",
       "    case 2:\n",
       "        cursor = 'crosshair';\n",
       "        break;\n",
       "    case 3:\n",
       "        cursor = 'move';\n",
       "        break;\n",
       "    }\n",
       "    fig.rubberband_canvas.style.cursor = cursor;\n",
       "}\n",
       "\n",
       "mpl.figure.prototype.handle_message = function(fig, msg) {\n",
       "    fig.message.textContent = msg['message'];\n",
       "}\n",
       "\n",
       "mpl.figure.prototype.handle_draw = function(fig, msg) {\n",
       "    // Request the server to send over a new figure.\n",
       "    fig.send_draw_message();\n",
       "}\n",
       "\n",
       "mpl.figure.prototype.handle_image_mode = function(fig, msg) {\n",
       "    fig.image_mode = msg['mode'];\n",
       "}\n",
       "\n",
       "mpl.figure.prototype.updated_canvas_event = function() {\n",
       "    // Called whenever the canvas gets updated.\n",
       "    this.send_message(\"ack\", {});\n",
       "}\n",
       "\n",
       "// A function to construct a web socket function for onmessage handling.\n",
       "// Called in the figure constructor.\n",
       "mpl.figure.prototype._make_on_message_function = function(fig) {\n",
       "    return function socket_on_message(evt) {\n",
       "        if (evt.data instanceof Blob) {\n",
       "            /* FIXME: We get \"Resource interpreted as Image but\n",
       "             * transferred with MIME type text/plain:\" errors on\n",
       "             * Chrome.  But how to set the MIME type?  It doesn't seem\n",
       "             * to be part of the websocket stream */\n",
       "            evt.data.type = \"image/png\";\n",
       "\n",
       "            /* Free the memory for the previous frames */\n",
       "            if (fig.imageObj.src) {\n",
       "                (window.URL || window.webkitURL).revokeObjectURL(\n",
       "                    fig.imageObj.src);\n",
       "            }\n",
       "\n",
       "            fig.imageObj.src = (window.URL || window.webkitURL).createObjectURL(\n",
       "                evt.data);\n",
       "            fig.updated_canvas_event();\n",
       "            fig.waiting = false;\n",
       "            return;\n",
       "        }\n",
       "        else if (typeof evt.data === 'string' && evt.data.slice(0, 21) == \"data:image/png;base64\") {\n",
       "            fig.imageObj.src = evt.data;\n",
       "            fig.updated_canvas_event();\n",
       "            fig.waiting = false;\n",
       "            return;\n",
       "        }\n",
       "\n",
       "        var msg = JSON.parse(evt.data);\n",
       "        var msg_type = msg['type'];\n",
       "\n",
       "        // Call the  \"handle_{type}\" callback, which takes\n",
       "        // the figure and JSON message as its only arguments.\n",
       "        try {\n",
       "            var callback = fig[\"handle_\" + msg_type];\n",
       "        } catch (e) {\n",
       "            console.log(\"No handler for the '\" + msg_type + \"' message type: \", msg);\n",
       "            return;\n",
       "        }\n",
       "\n",
       "        if (callback) {\n",
       "            try {\n",
       "                // console.log(\"Handling '\" + msg_type + \"' message: \", msg);\n",
       "                callback(fig, msg);\n",
       "            } catch (e) {\n",
       "                console.log(\"Exception inside the 'handler_\" + msg_type + \"' callback:\", e, e.stack, msg);\n",
       "            }\n",
       "        }\n",
       "    };\n",
       "}\n",
       "\n",
       "// from http://stackoverflow.com/questions/1114465/getting-mouse-location-in-canvas\n",
       "mpl.findpos = function(e) {\n",
       "    //this section is from http://www.quirksmode.org/js/events_properties.html\n",
       "    var targ;\n",
       "    if (!e)\n",
       "        e = window.event;\n",
       "    if (e.target)\n",
       "        targ = e.target;\n",
       "    else if (e.srcElement)\n",
       "        targ = e.srcElement;\n",
       "    if (targ.nodeType == 3) // defeat Safari bug\n",
       "        targ = targ.parentNode;\n",
       "\n",
       "    // jQuery normalizes the pageX and pageY\n",
       "    // pageX,Y are the mouse positions relative to the document\n",
       "    // offset() returns the position of the element relative to the document\n",
       "    var x = e.pageX - $(targ).offset().left;\n",
       "    var y = e.pageY - $(targ).offset().top;\n",
       "\n",
       "    return {\"x\": x, \"y\": y};\n",
       "};\n",
       "\n",
       "/*\n",
       " * return a copy of an object with only non-object keys\n",
       " * we need this to avoid circular references\n",
       " * http://stackoverflow.com/a/24161582/3208463\n",
       " */\n",
       "function simpleKeys (original) {\n",
       "  return Object.keys(original).reduce(function (obj, key) {\n",
       "    if (typeof original[key] !== 'object')\n",
       "        obj[key] = original[key]\n",
       "    return obj;\n",
       "  }, {});\n",
       "}\n",
       "\n",
       "mpl.figure.prototype.mouse_event = function(event, name) {\n",
       "    var canvas_pos = mpl.findpos(event)\n",
       "\n",
       "    if (name === 'button_press')\n",
       "    {\n",
       "        this.canvas.focus();\n",
       "        this.canvas_div.focus();\n",
       "    }\n",
       "\n",
       "    var x = canvas_pos.x * mpl.ratio;\n",
       "    var y = canvas_pos.y * mpl.ratio;\n",
       "\n",
       "    this.send_message(name, {x: x, y: y, button: event.button,\n",
       "                             step: event.step,\n",
       "                             guiEvent: simpleKeys(event)});\n",
       "\n",
       "    /* This prevents the web browser from automatically changing to\n",
       "     * the text insertion cursor when the button is pressed.  We want\n",
       "     * to control all of the cursor setting manually through the\n",
       "     * 'cursor' event from matplotlib */\n",
       "    event.preventDefault();\n",
       "    return false;\n",
       "}\n",
       "\n",
       "mpl.figure.prototype._key_event_extra = function(event, name) {\n",
       "    // Handle any extra behaviour associated with a key event\n",
       "}\n",
       "\n",
       "mpl.figure.prototype.key_event = function(event, name) {\n",
       "\n",
       "    // Prevent repeat events\n",
       "    if (name == 'key_press')\n",
       "    {\n",
       "        if (event.which === this._key)\n",
       "            return;\n",
       "        else\n",
       "            this._key = event.which;\n",
       "    }\n",
       "    if (name == 'key_release')\n",
       "        this._key = null;\n",
       "\n",
       "    var value = '';\n",
       "    if (event.ctrlKey && event.which != 17)\n",
       "        value += \"ctrl+\";\n",
       "    if (event.altKey && event.which != 18)\n",
       "        value += \"alt+\";\n",
       "    if (event.shiftKey && event.which != 16)\n",
       "        value += \"shift+\";\n",
       "\n",
       "    value += 'k';\n",
       "    value += event.which.toString();\n",
       "\n",
       "    this._key_event_extra(event, name);\n",
       "\n",
       "    this.send_message(name, {key: value,\n",
       "                             guiEvent: simpleKeys(event)});\n",
       "    return false;\n",
       "}\n",
       "\n",
       "mpl.figure.prototype.toolbar_button_onclick = function(name) {\n",
       "    if (name == 'download') {\n",
       "        this.handle_save(this, null);\n",
       "    } else {\n",
       "        this.send_message(\"toolbar_button\", {name: name});\n",
       "    }\n",
       "};\n",
       "\n",
       "mpl.figure.prototype.toolbar_button_onmouseover = function(tooltip) {\n",
       "    this.message.textContent = tooltip;\n",
       "};\n",
       "mpl.toolbar_items = [[\"Home\", \"Reset original view\", \"fa fa-home icon-home\", \"home\"], [\"Back\", \"Back to previous view\", \"fa fa-arrow-left icon-arrow-left\", \"back\"], [\"Forward\", \"Forward to next view\", \"fa fa-arrow-right icon-arrow-right\", \"forward\"], [\"\", \"\", \"\", \"\"], [\"Pan\", \"Pan axes with left mouse, zoom with right\", \"fa fa-arrows icon-move\", \"pan\"], [\"Zoom\", \"Zoom to rectangle\", \"fa fa-square-o icon-check-empty\", \"zoom\"], [\"\", \"\", \"\", \"\"], [\"Download\", \"Download plot\", \"fa fa-floppy-o icon-save\", \"download\"]];\n",
       "\n",
       "mpl.extensions = [\"eps\", \"pdf\", \"png\", \"ps\", \"raw\", \"svg\"];\n",
       "\n",
       "mpl.default_extension = \"png\";var comm_websocket_adapter = function(comm) {\n",
       "    // Create a \"websocket\"-like object which calls the given IPython comm\n",
       "    // object with the appropriate methods. Currently this is a non binary\n",
       "    // socket, so there is still some room for performance tuning.\n",
       "    var ws = {};\n",
       "\n",
       "    ws.close = function() {\n",
       "        comm.close()\n",
       "    };\n",
       "    ws.send = function(m) {\n",
       "        //console.log('sending', m);\n",
       "        comm.send(m);\n",
       "    };\n",
       "    // Register the callback with on_msg.\n",
       "    comm.on_msg(function(msg) {\n",
       "        //console.log('receiving', msg['content']['data'], msg);\n",
       "        // Pass the mpl event to the overridden (by mpl) onmessage function.\n",
       "        ws.onmessage(msg['content']['data'])\n",
       "    });\n",
       "    return ws;\n",
       "}\n",
       "\n",
       "mpl.mpl_figure_comm = function(comm, msg) {\n",
       "    // This is the function which gets called when the mpl process\n",
       "    // starts-up an IPython Comm through the \"matplotlib\" channel.\n",
       "\n",
       "    var id = msg.content.data.id;\n",
       "    // Get hold of the div created by the display call when the Comm\n",
       "    // socket was opened in Python.\n",
       "    var element = $(\"#\" + id);\n",
       "    var ws_proxy = comm_websocket_adapter(comm)\n",
       "\n",
       "    function ondownload(figure, format) {\n",
       "        window.open(figure.imageObj.src);\n",
       "    }\n",
       "\n",
       "    var fig = new mpl.figure(id, ws_proxy,\n",
       "                           ondownload,\n",
       "                           element.get(0));\n",
       "\n",
       "    // Call onopen now - mpl needs it, as it is assuming we've passed it a real\n",
       "    // web socket which is closed, not our websocket->open comm proxy.\n",
       "    ws_proxy.onopen();\n",
       "\n",
       "    fig.parent_element = element.get(0);\n",
       "    fig.cell_info = mpl.find_output_cell(\"<div id='\" + id + \"'></div>\");\n",
       "    if (!fig.cell_info) {\n",
       "        console.error(\"Failed to find cell for figure\", id, fig);\n",
       "        return;\n",
       "    }\n",
       "\n",
       "    var output_index = fig.cell_info[2]\n",
       "    var cell = fig.cell_info[0];\n",
       "\n",
       "};\n",
       "\n",
       "mpl.figure.prototype.handle_close = function(fig, msg) {\n",
       "    var width = fig.canvas.width/mpl.ratio\n",
       "    fig.root.unbind('remove')\n",
       "\n",
       "    // Update the output cell to use the data from the current canvas.\n",
       "    fig.push_to_output();\n",
       "    var dataURL = fig.canvas.toDataURL();\n",
       "    // Re-enable the keyboard manager in IPython - without this line, in FF,\n",
       "    // the notebook keyboard shortcuts fail.\n",
       "    IPython.keyboard_manager.enable()\n",
       "    $(fig.parent_element).html('<img src=\"' + dataURL + '\" width=\"' + width + '\">');\n",
       "    fig.close_ws(fig, msg);\n",
       "}\n",
       "\n",
       "mpl.figure.prototype.close_ws = function(fig, msg){\n",
       "    fig.send_message('closing', msg);\n",
       "    // fig.ws.close()\n",
       "}\n",
       "\n",
       "mpl.figure.prototype.push_to_output = function(remove_interactive) {\n",
       "    // Turn the data on the canvas into data in the output cell.\n",
       "    var width = this.canvas.width/mpl.ratio\n",
       "    var dataURL = this.canvas.toDataURL();\n",
       "    this.cell_info[1]['text/html'] = '<img src=\"' + dataURL + '\" width=\"' + width + '\">';\n",
       "}\n",
       "\n",
       "mpl.figure.prototype.updated_canvas_event = function() {\n",
       "    // Tell IPython that the notebook contents must change.\n",
       "    IPython.notebook.set_dirty(true);\n",
       "    this.send_message(\"ack\", {});\n",
       "    var fig = this;\n",
       "    // Wait a second, then push the new image to the DOM so\n",
       "    // that it is saved nicely (might be nice to debounce this).\n",
       "    setTimeout(function () { fig.push_to_output() }, 1000);\n",
       "}\n",
       "\n",
       "mpl.figure.prototype._init_toolbar = function() {\n",
       "    var fig = this;\n",
       "\n",
       "    var nav_element = $('<div/>');\n",
       "    nav_element.attr('style', 'width: 100%');\n",
       "    this.root.append(nav_element);\n",
       "\n",
       "    // Define a callback function for later on.\n",
       "    function toolbar_event(event) {\n",
       "        return fig.toolbar_button_onclick(event['data']);\n",
       "    }\n",
       "    function toolbar_mouse_event(event) {\n",
       "        return fig.toolbar_button_onmouseover(event['data']);\n",
       "    }\n",
       "\n",
       "    for(var toolbar_ind in mpl.toolbar_items){\n",
       "        var name = mpl.toolbar_items[toolbar_ind][0];\n",
       "        var tooltip = mpl.toolbar_items[toolbar_ind][1];\n",
       "        var image = mpl.toolbar_items[toolbar_ind][2];\n",
       "        var method_name = mpl.toolbar_items[toolbar_ind][3];\n",
       "\n",
       "        if (!name) { continue; };\n",
       "\n",
       "        var button = $('<button class=\"btn btn-default\" href=\"#\" title=\"' + name + '\"><i class=\"fa ' + image + ' fa-lg\"></i></button>');\n",
       "        button.click(method_name, toolbar_event);\n",
       "        button.mouseover(tooltip, toolbar_mouse_event);\n",
       "        nav_element.append(button);\n",
       "    }\n",
       "\n",
       "    // Add the status bar.\n",
       "    var status_bar = $('<span class=\"mpl-message\" style=\"text-align:right; float: right;\"/>');\n",
       "    nav_element.append(status_bar);\n",
       "    this.message = status_bar[0];\n",
       "\n",
       "    // Add the close button to the window.\n",
       "    var buttongrp = $('<div class=\"btn-group inline pull-right\"></div>');\n",
       "    var button = $('<button class=\"btn btn-mini btn-primary\" href=\"#\" title=\"Stop Interaction\"><i class=\"fa fa-power-off icon-remove icon-large\"></i></button>');\n",
       "    button.click(function (evt) { fig.handle_close(fig, {}); } );\n",
       "    button.mouseover('Stop Interaction', toolbar_mouse_event);\n",
       "    buttongrp.append(button);\n",
       "    var titlebar = this.root.find($('.ui-dialog-titlebar'));\n",
       "    titlebar.prepend(buttongrp);\n",
       "}\n",
       "\n",
       "mpl.figure.prototype._root_extra_style = function(el){\n",
       "    var fig = this\n",
       "    el.on(\"remove\", function(){\n",
       "\tfig.close_ws(fig, {});\n",
       "    });\n",
       "}\n",
       "\n",
       "mpl.figure.prototype._canvas_extra_style = function(el){\n",
       "    // this is important to make the div 'focusable\n",
       "    el.attr('tabindex', 0)\n",
       "    // reach out to IPython and tell the keyboard manager to turn it's self\n",
       "    // off when our div gets focus\n",
       "\n",
       "    // location in version 3\n",
       "    if (IPython.notebook.keyboard_manager) {\n",
       "        IPython.notebook.keyboard_manager.register_events(el);\n",
       "    }\n",
       "    else {\n",
       "        // location in version 2\n",
       "        IPython.keyboard_manager.register_events(el);\n",
       "    }\n",
       "\n",
       "}\n",
       "\n",
       "mpl.figure.prototype._key_event_extra = function(event, name) {\n",
       "    var manager = IPython.notebook.keyboard_manager;\n",
       "    if (!manager)\n",
       "        manager = IPython.keyboard_manager;\n",
       "\n",
       "    // Check for shift+enter\n",
       "    if (event.shiftKey && event.which == 13) {\n",
       "        this.canvas_div.blur();\n",
       "        event.shiftKey = false;\n",
       "        // Send a \"J\" for go to next cell\n",
       "        event.which = 74;\n",
       "        event.keyCode = 74;\n",
       "        manager.command_mode();\n",
       "        manager.handle_keydown(event);\n",
       "    }\n",
       "}\n",
       "\n",
       "mpl.figure.prototype.handle_save = function(fig, msg) {\n",
       "    fig.ondownload(fig, null);\n",
       "}\n",
       "\n",
       "\n",
       "mpl.find_output_cell = function(html_output) {\n",
       "    // Return the cell and output element which can be found *uniquely* in the notebook.\n",
       "    // Note - this is a bit hacky, but it is done because the \"notebook_saving.Notebook\"\n",
       "    // IPython event is triggered only after the cells have been serialised, which for\n",
       "    // our purposes (turning an active figure into a static one), is too late.\n",
       "    var cells = IPython.notebook.get_cells();\n",
       "    var ncells = cells.length;\n",
       "    for (var i=0; i<ncells; i++) {\n",
       "        var cell = cells[i];\n",
       "        if (cell.cell_type === 'code'){\n",
       "            for (var j=0; j<cell.output_area.outputs.length; j++) {\n",
       "                var data = cell.output_area.outputs[j];\n",
       "                if (data.data) {\n",
       "                    // IPython >= 3 moved mimebundle to data attribute of output\n",
       "                    data = data.data;\n",
       "                }\n",
       "                if (data['text/html'] == html_output) {\n",
       "                    return [cell, data, j];\n",
       "                }\n",
       "            }\n",
       "        }\n",
       "    }\n",
       "}\n",
       "\n",
       "// Register the function which deals with the matplotlib target/channel.\n",
       "// The kernel may be null if the page has been refreshed.\n",
       "if (IPython.notebook.kernel != null) {\n",
       "    IPython.notebook.kernel.comm_manager.register_target('matplotlib', mpl.mpl_figure_comm);\n",
       "}\n"
      ],
      "text/plain": [
       "<IPython.core.display.Javascript object>"
      ]
     },
     "metadata": {},
     "output_type": "display_data"
    },
    {
     "data": {
      "text/html": [
       "<img src=\"data:image/png;base64,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\" width=\"640\">"
      ],
      "text/plain": [
       "<IPython.core.display.HTML object>"
      ]
     },
     "metadata": {},
     "output_type": "display_data"
    },
    {
     "data": {
      "text/plain": [
       "[<matplotlib.lines.Line2D at 0x7f38b957f048>,\n",
       " <matplotlib.lines.Line2D at 0x7f38b957f198>]"
      ]
     },
     "execution_count": 16,
     "metadata": {},
     "output_type": "execute_result"
    }
   ],
   "source": [
    "plt.figure()\n",
    "\n",
    "#plt.plot(axi[:,0])\n",
    "#plt.plot(xc,Gij[:,0,0]*uxi[:,0]+Gij[:,0,1]*uxi[:,1]+Gij[:,0,2]*uxi[:,2])\n",
    "#plt.plot(xc,axi[:,0])\n",
    "#plt.plot(C0[80:180,0:2])\n",
    "#plt.plot(meanVelGrad[80:180,2,1]*K[80:180]/eps[80:180])\n",
    "plt.plot(C0[:,0:2])\n",
    "#plt.plot(Reyn/1e4,C0[:,1])"
   ]
  },
  {
   "cell_type": "code",
   "execution_count": null,
   "metadata": {},
   "outputs": [],
   "source": [
    "plt.figure()\n",
    "plt.plot(eps/K*uxi[:,0])\n",
    "plt.plot(utheta[:,0])"
   ]
  },
  {
   "cell_type": "code",
   "execution_count": null,
   "metadata": {},
   "outputs": [],
   "source": [
    "data = np.zeros((K.shape[0],2))\n",
    "data[:,0] = Gij[:,0,0]*uxi[:,0]+Gij[:,0,1]*uxi[:,1]+Gij[:,0,2]*uxi[:,2]\n",
    "tempV = eps[:,None,None]*lambdaij\n",
    "data[:,1] = tempV[:,0,0]*uxi[:,0]+tempV[:,0,1]*uxi[:,1]+tempV[:,0,2]*uxi[:,2]\n",
    "\n",
    "\n",
    "#SS = StandardScaler\n",
    "#data = SS().fit_transform(data)\n",
    "\n",
    "reg = LR(normalize=False,fit_intercept=False).fit(data[:,1].reshape(-1,1),axi[:,0]-data[:,0])\n",
    "predict = reg.predict(data[:,1].reshape(-1,1))"
   ]
  },
  {
   "cell_type": "code",
   "execution_count": null,
   "metadata": {},
   "outputs": [],
   "source": [
    "np.max(C0)"
   ]
  },
  {
   "cell_type": "code",
   "execution_count": null,
   "metadata": {},
   "outputs": [],
   "source": [
    "data = np.zeros((K.shape[0],13))\n",
    "data[:,0:6] = np.reshape(omega[:,0:2,0:3]*K[:,None,None]/eps[:,None,None],(K.shape[0],6))\n",
    "data[:,6:12] = np.reshape(Sij[:,0:2,0:3]*K[:,None,None]/eps[:,None,None],(K.shape[0],6))\n",
    "data[:,12] = Reyn\n",
    "\n",
    "\n",
    "#SS = StandardScaler\n",
    "#data = SS().fit_transform(data)\n",
    "\n",
    "reg = LR(normalize=False,fit_intercept=False).fit(data[:,12].reshape(-1,1),C0[:,1])\n",
    "predict = reg.predict(data[:,12].reshape(-1,1))"
   ]
  },
  {
   "cell_type": "code",
   "execution_count": null,
   "metadata": {},
   "outputs": [],
   "source": [
    "reg.coef_"
   ]
  },
  {
   "cell_type": "code",
   "execution_count": null,
   "metadata": {},
   "outputs": [],
   "source": [
    "plt.figure()\n",
    "plt.plot(C0[:,1])\n",
    "plt.plot(predict)"
   ]
  },
  {
   "cell_type": "code",
   "execution_count": null,
   "metadata": {},
   "outputs": [],
   "source": [
    "lambdaij.shape"
   ]
  },
  {
   "cell_type": "code",
   "execution_count": null,
   "metadata": {},
   "outputs": [],
   "source": [
    "slope = np.zeros((3,3))\n",
    "intercept = np.zeros((3,3))\n",
    "predict = np.zeros((K.shape[0],3))\n",
    "RHS = np.zeros((K.shape[0],3))\n",
    "LHS = np.zeros((K.shape[0],3,3))\n",
    "\n",
    "for i in range(0,3):\n",
    "    RHS[:,i] = axi[:,i]-Gij[:,i,0]*uxi[:,0]+Gij[:,i,1]*uxi[:,1]+Gij[:,i,2]*uxi[:,2]\n",
    "    \n",
    "for i in range(0,3):\n",
    "    for j in range(0,3):\n",
    "        LHS[:,i,j] = lambdaij[:,i,j]*uxi[:,j]*eps\n",
    "    \n",
    "for i in range(0,3):\n",
    "        reg = LR(normalize=False,fit_intercept=False).fit(LHS[:,i,0:3],RHS[:,i])\n",
    "        slope[i,:] = reg.coef_\n",
    "#        intercept[i,j,:] = reg.intercept_\n",
    "        predict[:,i] = reg.predict(LHS[:,i,0:3])"
   ]
  },
  {
   "cell_type": "code",
   "execution_count": null,
   "metadata": {},
   "outputs": [],
   "source": [
    "slope"
   ]
  },
  {
   "cell_type": "code",
   "execution_count": null,
   "metadata": {},
   "outputs": [],
   "source": [
    "A2 = [ 1.08689281,  0.80703927,  0.76317796,  0.75207754,  0.7486984 ,\n",
    "        0.7470936 ,  0.74641447,  0.74618091]"
   ]
  },
  {
   "cell_type": "code",
   "execution_count": null,
   "metadata": {},
   "outputs": [],
   "source": [
    "A1"
   ]
  },
  {
   "cell_type": "code",
   "execution_count": null,
   "metadata": {},
   "outputs": [],
   "source": [
    "plt.figure()\n",
    "plt.plot(RHS[:,1])\n",
    "plt.plot(predict[:,1])"
   ]
  },
  {
   "cell_type": "code",
   "execution_count": null,
   "metadata": {},
   "outputs": [],
   "source": [
    "reg.intercept_"
   ]
  },
  {
   "cell_type": "code",
   "execution_count": null,
   "metadata": {},
   "outputs": [],
   "source": [
    "Tij.shape"
   ]
  },
  {
   "cell_type": "code",
   "execution_count": null,
   "metadata": {},
   "outputs": [],
   "source": [
    "plt.figure()\n",
    "plt.plot(detT)"
   ]
  },
  {
   "cell_type": "code",
   "execution_count": null,
   "metadata": {},
   "outputs": [],
   "source": [
    "accu = np.loadtxt('../GLM/accu.dat')\n",
    "accu = np.reshape(accu,(accu.shape[0],3,3))\n"
   ]
  },
  {
   "cell_type": "code",
   "execution_count": null,
   "metadata": {},
   "outputs": [],
   "source": [
    "accu[599,0,1]"
   ]
  },
  {
   "cell_type": "code",
   "execution_count": null,
   "metadata": {},
   "outputs": [],
   "source": [
    "Gij[:,1,0] = Gij[:,1,0]/10.0\n",
    "Gij[:,1,1] = Gij[:,1,1]/10.0\n",
    "#Gij[:,1,2] = Gij[:,1,2]/10.0\n",
    "Gij[:,0,1] = Gij[:,0,1]/10.0\n",
    "#Gij[:,2,1] = Gij[:,2,1]/10.0\n"
   ]
  },
  {
   "cell_type": "code",
   "execution_count": null,
   "metadata": {},
   "outputs": [],
   "source": [
    "plt.figure()\n",
    "plt.plot(Gij[:,1,2])"
   ]
  },
  {
   "cell_type": "code",
   "execution_count": null,
   "metadata": {},
   "outputs": [],
   "source": [
    "plt.figure()\n",
    "plt.plot(Tij[:,0])"
   ]
  },
  {
   "cell_type": "code",
   "execution_count": null,
   "metadata": {},
   "outputs": [],
   "source": [
    "basis_vect = np.zeros((K.shape[0],3,3,18))\n",
    "trace = np.zeros((K.shape[0],18))\n",
    "norm_const = np.zeros((K.shape[0],18))"
   ]
  },
  {
   "cell_type": "code",
   "execution_count": null,
   "metadata": {},
   "outputs": [],
   "source": [
    "plt.figure()\n",
    "plt.plot(Gij[:,2,2])"
   ]
  },
  {
   "cell_type": "code",
   "execution_count": null,
   "metadata": {},
   "outputs": [],
   "source": [
    "Gij = Gij*K[:,None,None]/eps[:,None,None]\n",
    "Tij = Tij/K[:,None,None]\n",
    "meanVelGrad = meanVelGrad*K[:,None,None]/eps[:,None,None]\n",
    "Sij = Sij*K[:,None,None]/eps[:,None,None]\n",
    "omega = omega*K[:,None,None]/eps[:,None,None]\n",
    "b = b/(2.0*K[:,None,None])\n",
    "detT = detT*K**3\n",
    "I2 = I2/K**2"
   ]
  },
  {
   "cell_type": "code",
   "execution_count": null,
   "metadata": {},
   "outputs": [],
   "source": [
    "plt.figure()\n",
    "plt.plot(detT)"
   ]
  },
  {
   "cell_type": "code",
   "execution_count": null,
   "metadata": {},
   "outputs": [],
   "source": [
    "plt.figure()\n",
    "plt.plot(detT)\n",
    "#plt.plot(Tij[:,0,1])"
   ]
  },
  {
   "cell_type": "code",
   "execution_count": null,
   "metadata": {},
   "outputs": [],
   "source": [
    "#NEW BASIS VECT\n",
    "basis_vect[:,:,:,0] = b\n",
    "basis_vect[:,:,:,1] = Sij\n",
    "basis_vect[:,:,:,2] = omega\n",
    "basis_vect[:,:,:,3] = np.matmul(Sij,b)\n",
    "basis_vect[:,:,:,4] = np.matmul(omega,b)\n",
    "basis_vect[:,:,:,5] = np.matmul(b,Sij)\n",
    "basis_vect[:,:,:,6] = np.matmul(b,b)\n",
    "basis_vect[:,:,:,7] = np.matmul(b,omega)\n",
    "#basis_vect[:,:,:,7] = np.matmul(Tij,omega)\n",
    "basis_vect[:,:,:,8] = np.matmul(basis_vect[:,:,:,6],b)\n",
    "basis_vect[:,:,:,9] = np.matmul(basis_vect[:,:,:,7],b)\n",
    "\n"
   ]
  },
  {
   "cell_type": "code",
   "execution_count": null,
   "metadata": {},
   "outputs": [],
   "source": [
    "#NEW BASIS VECT\n",
    "basis_vect[:,:,:,0] = b\n",
    "basis_vect[:,:,:,1] = np.matmul(b,b)\n",
    "#basis_vect[:,:,:,2] = np.matmul(np.matmul(b,b),b)\n",
    "basis_vect[:,:,:,2] = Sij\n",
    "basis_vect[:,:,:,3] = omega  \n",
    "basis_vect[:,:,:,4] = np.matmul(Sij,b)\n",
    "basis_vect[:,:,:,5] = np.matmul(omega,b)\n",
    "basis_vect[:,:,:,6] = np.matmul(b,Sij)\n",
    "basis_vect[:,:,:,7] = np.matmul(b,omega)\n",
    "#basis_vect[:,:,:7] = np.matmul(Tij,omega)\n",
    "basis_vect[:,:,:,8] = np.matmul(basis_vect[:,:,:,6],b)\n",
    "basis_vect[:,:,:,9] = np.matmul(basis_vect[:,:,:,7],b)\n",
    "basis_vect[:,:,:,10] = np.matmul(basis_vect[:,:,:,2],basis_vect[:,:,:,1])\n",
    "basis_vect[:,:,:,11] = np.matmul(basis_vect[:,:,:,3],basis_vect[:,:,:,1])\n",
    "basis_vect[:,:,:,12] = np.matmul(basis_vect[:,:,:,1],basis_vect[:,:,:,2])\n",
    "basis_vect[:,:,:,13] = np.matmul(basis_vect[:,:,:,1],basis_vect[:,:,:,3])\n",
    "basis_vect[:,:,:,14] = np.matmul(np.matmul(b,b),b)\n",
    "for i in range(0,K.shape[0]):\n",
    "       basis_vect[i,:,:,15] = np.eye(3,3)*np.trace(Sij)\n",
    "       basis_vect[i,:,:,16] = np.trace(basis_vect[i,:,:,4])*np.eye(3,3)\n",
    "       basis_vect[i,:,:,17] = np.trace(np.matmul(basis_vect[i,:,:,2],basis_vect[i,:,:,1]))*np.eye(3,3)\n",
    "       #basis_vect[i,:,:,17] = np.trace(np.matmul(basis_vect[i,:,:,2],basis_vect[i,:,:,1]))*np.eye(3,3)\n",
    "       \n"
   ]
  },
  {
   "cell_type": "code",
   "execution_count": null,
   "metadata": {},
   "outputs": [],
   "source": [
    "hof[0].a"
   ]
  },
  {
   "cell_type": "code",
   "execution_count": null,
   "metadata": {},
   "outputs": [],
   "source": [
    "#NEW BASIS VECT\n",
    "basis_vect[:,:,:,0] = b\n",
    "\n",
    "for i in range(0,K.shape[0]):\n",
    "    basis_vect[i,:,:,1] = np.matmul(b[i,:,:],b[i,:,:])-1.0/3*np.trace(np.matmul(b[i,:,:],b[i,:,:]))*np.eye(3,3)\n",
    "    basis_vect[i,:,:,2] = Sij[i,:,:] - 1.0/3*np.trace(Sij[i,:,:])*np.eye(3,3)\n",
    "    basis_vect[i,:,:,3] = np.matmul(Sij[i,:,:],b[i,:,:]) + np.transpose(np.matmul(Sij[i,:,:],b[i,:,:])) - 2.0/3*np.trace(np.matmul(Sij[i,:,:],b[i,:,:]))*np.eye(3,3)\n",
    "    \n",
    "\n",
    "    basis_vect[i,:,:,4] = np.matmul(omega[i,:,:],b[i,:,:]) + np.transpose(np.matmul(omega[i,:,:],b[i,:,:]))\n",
    "\n",
    "\n",
    "    basis_vect[i,:,:,5] = np.matmul(Sij[i,:,:],np.matmul(b[i,:,:],b[i,:,:])) + \\\n",
    "        np.transpose(np.matmul(Sij[i,:,:],np.matmul(b[i,:,:],b[i,:,:]))) - \\\n",
    "        2.0/3*(np.trace(np.matmul(Sij[i,:,:],np.matmul(b[i,:,:],b[i,:,:]))))\n",
    "                           \n",
    "        \n",
    "    basis_vect[i,:,:,6] = np.matmul(omega[i,:,:],np.matmul(b[i,:,:],b[i,:,:])) + np.transpose(np.matmul(omega[i,:,:],np.matmul(b[i,:,:],b[i,:,:])))\n",
    "    basis_vect[i,:,:,7] = np.matmul(np.matmul(b[i,:,:],Sij[i,:,:]),b[i,:,:])-1.0/3*np.trace(np.matmul(Sij[i,:,:],np.matmul(b[i,:,:],b[i,:,:])))*np.eye(3,3)\n",
    "    \n",
    "basis_vect[:,:,:,8] = np.matmul(basis_vect[:,:,:,6],b)\n",
    "basis_vect[:,:,:,9] = np.matmul(basis_vect[:,:,:,7],b)"
   ]
  },
  {
   "cell_type": "code",
   "execution_count": null,
   "metadata": {},
   "outputs": [],
   "source": [
    "Tij.shape"
   ]
  },
  {
   "cell_type": "code",
   "execution_count": null,
   "metadata": {},
   "outputs": [],
   "source": [
    "basis_vect[:,:,:,0]=b\n",
    "for i in range(0,K.shape[0]):\n",
    "    basis_vect[i,:,:,1]=np.trace(meanVelGrad[i,:,:])*np.eye(3,3)\n",
    "    basis_vect[i,:,:,2]=meanVelGrad[i,:,:]\n",
    "    basis_vect[i,:,:,3]=np.transpose(meanVelGrad[i,:,:])\n",
    "    basis_vect[i,:,:,4]=np.trace(np.matmul(meanVelGrad[i,:,:],b[i,:,:]))*np.eye(3,3)\n",
    "    basis_vect[i,:,:,5]=np.transpose(np.matmul(b[i,:,:],meanVelGrad[i,:,:]))\n",
    "    basis_vect[i,:,:,6]=b[i,:,:]*np.trace(meanVelGrad[i,:,:])\n",
    "    basis_vect[i,:,:,7]=b[i,:,:]*np.trace(meanVelGrad[i,:,:])\n",
    "    basis_vect[i,:,:,8]=np.matmul(b[i,:,:],meanVelGrad[i,:,:])\n",
    "    basis_vect[i,:,:,9]=np.transpose(np.matmul(meanVelGrad[i,:,:],b[i,:,:]))\n",
    "    basis_vect[i,:,:,10]=np.trace(np.matmul(np.matmul(b[i,:,:],b[i,:,:]),b[i,:,:]))*np.eye(3,3)\n",
    "    basis_vect[i,:,:,11] = - 0.5*np.trace(np.matmul(Tij[i,:,:],np.transpose(meanVelGrad[i,:,:])) + np.transpose(np.matmul(Tij[i,:,:],np.transpose(meanVelGrad[i,:,:]))))\n",
    "    basis_vect[i,:,:,12]=np.matmul(b[i,:,:],b[i,:,:])\n",
    "    basis_vect[i,:,:,13]=np.eye(3,3)\n"
   ]
  },
  {
   "cell_type": "code",
   "execution_count": null,
   "metadata": {},
   "outputs": [],
   "source": [
    "for i in range(0,K.shape[0]):\n",
    "    basis_vect[i,:,:,0]=np.eye(3,3)*eps[i]/K[i]\n",
    "    basis_vect[i,:,:,1]=b[i,:,:]*eps[i]/K[i]    \n",
    "    basis_vect[i,:,:,2]=np.matmul(b[i,:,:],b[i,:,:])*eps[i]/K[i]    \n",
    "    basis_vect[i,:,:,3]=np.trace(meanVelGrad[i,:,:])*np.eye(3,3)\n",
    "    basis_vect[i,:,:,4]=meanVelGrad[i,:,:]\n",
    "    basis_vect[i,:,:,5]=np.transpose(meanVelGrad[i,:,:])\n",
    "    basis_vect[i,:,:,6]=np.trace(np.matmul(meanVelGrad[i,:,:],b[i,:,:]))*np.eye(3,3)\n",
    "    basis_vect[i,:,:,7]=np.transpose(np.matmul(b[i,:,:],meanVelGrad[i,:,:]))\n",
    "    basis_vect[i,:,:,8]=b[i,:,:]*np.trace(meanVelGrad[i,:,:])\n",
    "    basis_vect[i,:,:,9]=b[i,:,:]*np.trace(meanVelGrad[i,:,:])\n",
    "    basis_vect[i,:,:,10]=np.matmul(b[i,:,:],meanVelGrad[i,:,:])    \n",
    "    basis_vect[i,:,:,11]=np.transpose(np.matmul(meanVelGrad[i,:,:],b[i,:,:]))    \n",
    "    basis_vect[i,:,:,12]=np.trace(np.matmul(np.matmul(b[i,:,:],b[i,:,:]),b[i,:,:]))*np.eye(3,3)\n",
    "    P = - 0.5*np.trace(np.matmul(Tij[i,:,:],np.transpose(meanVelGrad[i,:,:])) + np.transpose(np.matmul(Tij[i,:,:],np.transpose(meanVelGrad[i,:,:]))))\n",
    "    basis_vect[i,:,:,13] = P/eps[i]\n",
    "    #basis_vect[i,:,:,12]=np.matmul(b[i,:,:],b[i,:,:])\n",
    "    #basis_vect[i,:,:,13]=np.eye(3,3)\n"
   ]
  },
  {
   "cell_type": "code",
   "execution_count": null,
   "metadata": {},
   "outputs": [],
   "source": [
    "meanVelGrad.shape"
   ]
  },
  {
   "cell_type": "code",
   "execution_count": null,
   "metadata": {},
   "outputs": [],
   "source": [
    "basis_vect.shape"
   ]
  },
  {
   "cell_type": "code",
   "execution_count": null,
   "metadata": {},
   "outputs": [],
   "source": [
    "plt.figure()\n",
    "plt.plot(basis_vect[:,0,0,3]+basis_vect[:,1,1,3]+basis_vect[:,2,2,3])"
   ]
  },
  {
   "cell_type": "code",
   "execution_count": null,
   "metadata": {},
   "outputs": [],
   "source": [
    "basis_vect[:,:,:,0]= Tij\n",
    "basis_vect[:,:,:,1]= meanVelGrad\n",
    "basis_vect[:,:,:,2]= np.matmul(Tij,Tij)\n",
    "basis_vect[:,:,:,3]= np.matmul(meanVelGrad,meanVelGrad)\n",
    "basis_vect[:,:,:,4]= np.matmul(Tij,meanVelGrad)\n",
    "basis_vect[:,:,:,5]= np.matmul(meanVelGrad,Tij)\n",
    "basis_vect[:,:,:,6]= np.matmul(basis_vect[:,:,:,2],meanVelGrad)\n",
    "basis_vect[:,:,:,7]= np.matmul(basis_vect[:,:,:,3],Tij)\n",
    "basis_vect[:,:,:,8]= np.matmul(Tij,basis_vect[:,:,:,3])\n",
    "basis_vect[:,:,:,9]= np.matmul(meanVelGrad,basis_vect[:,:,:,2])\n",
    "basis_vect[:,:,:,10]= np.matmul(basis_vect[:,:,:,2],basis_vect[:,:,:,3])\n",
    "basis_vect[:,:,:,11]= np.matmul(basis_vect[:,:,:,3],basis_vect[:,:,:,2])\n",
    "basis_vect[:,:,:,12]= np.matmul(basis_vect[:,:,:,4],basis_vect[:,:,:,2])\n",
    "basis_vect[:,:,:,13]= np.matmul(basis_vect[:,:,:,5],basis_vect[:,:,:,3])\n",
    "basis_vect[:,:,:,14]= np.matmul(basis_vect[:,:,:,0],basis_vect[:,:,:,11])\n",
    "basis_vect[:,:,:,15]= np.matmul(basis_vect[:,:,:,1],basis_vect[:,:,:,10])\n",
    "\n",
    "#basis_vect[:,:,:,10]= np.matmul(Tij**2,meanVelGrad**2)\n",
    "#basis_vect[:,:,:,11]= np.matmul(meanVelGrad**2,Tij**2)\n",
    "#basis_vect[:,:,:,12]= Tij*meanVelGrad*Tij**2\n",
    "#basis_vect[:,:,:,13]= meanVelGrad*Tij*meanVelGrad**2\n",
    "#basis_vect[:,:,:,14]= Tij*meanVelGrad**2*Tij**2\n",
    "#basis_vect[:,:,:,15]= meanVelGrad*Tij**2*meanVelGrad**2\n"
   ]
  },
  {
   "cell_type": "code",
   "execution_count": null,
   "metadata": {},
   "outputs": [],
   "source": [
    "basis_vect[:,:,:,0]= b\n",
    "basis_vect[:,:,:,1]= meanVelGrad\n",
    "basis_vect[:,:,:,2]= np.matmul(b,b)\n",
    "basis_vect[:,:,:,3]= np.matmul(meanVelGrad,meanVelGrad)\n",
    "basis_vect[:,:,:,4]= np.matmul(b,meanVelGrad)\n",
    "basis_vect[:,:,:,5]= np.matmul(meanVelGrad,Tij)\n",
    "basis_vect[:,:,:,6]= np.matmul(basis_vect[:,:,:,2],meanVelGrad)\n",
    "basis_vect[:,:,:,7]= np.matmul(basis_vect[:,:,:,3],Tij)\n",
    "basis_vect[:,:,:,8]= np.matmul(b,basis_vect[:,:,:,3])\n",
    "basis_vect[:,:,:,9]= np.matmul(meanVelGrad,basis_vect[:,:,:,2])\n",
    "basis_vect[:,:,:,10]= np.matmul(basis_vect[:,:,:,2],basis_vect[:,:,:,3])\n",
    "basis_vect[:,:,:,11]= np.matmul(basis_vect[:,:,:,3],basis_vect[:,:,:,2])\n",
    "basis_vect[:,:,:,12]= np.matmul(basis_vect[:,:,:,4],basis_vect[:,:,:,2])\n",
    "basis_vect[:,:,:,13]= np.matmul(basis_vect[:,:,:,5],basis_vect[:,:,:,3])\n",
    "basis_vect[:,:,:,14]= np.matmul(basis_vect[:,:,:,0],basis_vect[:,:,:,11])\n",
    "basis_vect[:,:,:,15]= np.matmul(basis_vect[:,:,:,1],basis_vect[:,:,:,10])\n",
    "basis_vect[i,:,:,16]=np.trace(np.matmul(np.matmul(b[i,:,:],b[i,:,:]),b[i,:,:]))*np.eye(3,3)\n",
    "P = - 0.5*np.trace(np.matmul(Tij[i,:,:],np.transpose(meanVelGrad[i,:,:])) + np.transpose(np.matmul(Tij[i,:,:],np.transpose(meanVelGrad[i,:,:]))))\n",
    "basis_vect[i,:,:,17] = P\n",
    "\n",
    "#basis_vect[:,:,:,10]= np.matmul(Tij**2,meanVelGrad**2)\n",
    "#basis_vect[:,:,:,11]= np.matmul(meanVelGrad**2,Tij**2)\n",
    "#basis_vect[:,:,:,12]= Tij*meanVelGrad*Tij**2\n",
    "#basis_vect[:,:,:,13]= meanVelGrad*Tij*meanVelGrad**2\n",
    "#basis_vect[:,:,:,14]= Tij*meanVelGrad**2*Tij**2\n",
    "#basis_vect[:,:,:,15]= meanVelGrad*Tij**2*meanVelGrad**2\n"
   ]
  },
  {
   "cell_type": "code",
   "execution_count": null,
   "metadata": {},
   "outputs": [],
   "source": [
    "basis_vect = np.moveaxis(basis_vect,0,-2)\n",
    "Gij = np.moveaxis(Gij,0,-1)\n",
    "Tij = np.moveaxis(Tij,0,-1)\n",
    "meanVelGrad = np.moveaxis(meanVelGrad,0,-1)\n"
   ]
  },
  {
   "cell_type": "code",
   "execution_count": null,
   "metadata": {},
   "outputs": [],
   "source": [
    "trace = np.trace(basis_vect)"
   ]
  },
  {
   "cell_type": "code",
   "execution_count": null,
   "metadata": {},
   "outputs": [],
   "source": [
    "for i in range(0,9):\n",
    "    trace[:,i] = savgol_filter(trace[:,i], sz, 3) # window size 51, polynomial order 3"
   ]
  },
  {
   "cell_type": "code",
   "execution_count": null,
   "metadata": {},
   "outputs": [],
   "source": [
    "T1 = np.trace(np.matmul(Sij,b),axis1=1,axis2=2)\n",
    "T2 = np.trace(np.matmul(Sij,Sij),axis1=1,axis2=2)\n",
    "T3 = np.trace(np.matmul(omega,omega),axis1=1,axis2=2)\n",
    "T4 = np.trace(np.matmul(b,b),axis1=1,axis2=2)\n",
    "T5 = np.trace(np.matmul(np.matmul(b,b),b),axis1=1,axis2=2)\n",
    "T6 = np.trace(np.matmul(np.matmul(Sij,Sij),Sij),axis1=1,axis2=2)\n",
    "T7 = np.trace(np.matmul(Sij,np.matmul(b,b)),axis1=1,axis2=2)\n",
    "T8 = np.trace(np.matmul(Sij,np.matmul(np.matmul(b,b),b)),axis1=1,axis2=2)\n",
    "T9 = np.trace(np.matmul(Sij,np.matmul(np.matmul(Sij,Sij),Sij)),axis1=1,axis2=2)"
   ]
  },
  {
   "cell_type": "code",
   "execution_count": null,
   "metadata": {},
   "outputs": [],
   "source": [
    "plt.figure()\n",
    "plt.plot(T8)\n",
    "#plt.plot(T1)"
   ]
  },
  {
   "cell_type": "code",
   "execution_count": null,
   "metadata": {},
   "outputs": [],
   "source": [
    "B1 = basis_vect[:,:,:,0]\n",
    "B2 = basis_vect[:,:,:,1]\n",
    "B3 = basis_vect[:,:,:,2]\n",
    "B4 = basis_vect[:,:,:,3]\n",
    "B5 = basis_vect[:,:,:,4]\n",
    "B6 = basis_vect[:,:,:,5]\n",
    "B7 = basis_vect[:,:,:,6]\n",
    "B8 = basis_vect[:,:,:,7]\n",
    "B9 = basis_vect[:,:,:,8]\n",
    "B10 = basis_vect[:,:,:,9]\n",
    "#I = np.ones((3,3,K.shape[0]))\n",
    "I = np.identity(3)[:,:,None]*np.ones((3,3,K.shape[0]))"
   ]
  },
  {
   "cell_type": "code",
   "execution_count": null,
   "metadata": {},
   "outputs": [],
   "source": [
    "B1.shape"
   ]
  },
  {
   "cell_type": "code",
   "execution_count": null,
   "metadata": {},
   "outputs": [],
   "source": [
    "plt.figure()\n",
    "plt.plot(B3[0,0,:]+B3[1,1,:]+B3[2,2,:])"
   ]
  },
  {
   "cell_type": "code",
   "execution_count": null,
   "metadata": {},
   "outputs": [],
   "source": [
    "B1.shape"
   ]
  },
  {
   "cell_type": "code",
   "execution_count": null,
   "metadata": {},
   "outputs": [],
   "source": [
    "plt.figure()\n",
    "plt.plot(T4)"
   ]
  },
  {
   "cell_type": "code",
   "execution_count": null,
   "metadata": {},
   "outputs": [],
   "source": [
    "S = basis_vect[0,0,:,:]\n",
    "S1 = S[:,0]\n",
    "S2 = S[:,1]\n",
    "S3 = S[:,2]\n",
    "S4 = S[:,3]\n",
    "S5 = S[:,4]\n",
    "S6 = S[:,5]\n",
    "S7 = S[:,6]\n",
    "S8 = S[:,7]\n",
    "S9 = S[:,8]\n",
    "S10 = S[:,9]\n",
    "#S9 = S[:,8]\n",
    "#S10 = S[:,9]\n",
    "#S11= S[:,10]\n",
    "#S12 = S[:,11]\n",
    "#S13 = S[:,12]\n",
    "T1 = trace[:,0]\n",
    "T2 = trace[:,1]\n",
    "T3 = trace[:,2]\n",
    "T4 = trace[:,3]\n",
    "T5 = trace[:,4]\n",
    "T6 = trace[:,5]\n",
    "T7 = trace[:,6]\n",
    "T8 = trace[:,7]\n",
    "T9 = trace[:,8]\n",
    "T10 = trace[:,9]\n",
    "T11 = trace[:,10]\n",
    "T12 = trace[:,11]\n",
    "T13 = trace[:,12]\n"
   ]
  },
  {
   "cell_type": "code",
   "execution_count": null,
   "metadata": {},
   "outputs": [],
   "source": [
    "#Generate the basis for H\n",
    "H1 = np.zeros((Gij.shape[0],9))\n",
    "H1[:,0] = meanVelGrad[:,0]+meanVelGrad[:,4]+meanVelGrad[:,8]\n",
    "H1[:,4] = meanVelGrad[:,0]+meanVelGrad[:,4]+meanVelGrad[:,8]\n",
    "H1[:,8] = meanVelGrad[:,0]+meanVelGrad[:,4]+meanVelGrad[:,8]\n",
    "\n",
    "H2 = np.zeros((Gij.shape[0],9))\n",
    "H2 = meanVelGrad\n",
    "\n",
    "H3 = np.zeros((Gij.shape[0],9))\n",
    "H3[:,0] = meanVelGrad[:,0]\n",
    "H3[:,1] = meanVelGrad[:,3]\n",
    "H3[:,2] = meanVelGrad[:,6]\n",
    "H3[:,3] = meanVelGrad[:,1]\n",
    "H3[:,4] = meanVelGrad[:,4]\n",
    "H3[:,5] = meanVelGrad[:,7]\n",
    "H3[:,6] = meanVelGrad[:,2]\n",
    "H3[:,7] = meanVelGrad[:,5]\n",
    "H3[:,8] = meanVelGrad[:,8]\n",
    "\n",
    "H4 = np.zeros((Gij.shape[0],9))\n",
    "for i in range(0,9):\n",
    "    H4[:,0] = H4[:,0]+b[:,i]*meanVelGrad[:,i]\n",
    "H4[:,4] = H4[:,0]\n",
    "H4[:,8] = H4[:,0]\n",
    "\n",
    "H5 = np.zeros((Gij.shape[0],9))\n",
    "H5[:,0] = b[:,0]*meanVelGrad[:,0]\n",
    "H5[:,1] = b[:,4]*meanVelGrad[:,1]\n",
    "H5[:,2] = b[:,8]*meanVelGrad[:,2]\n",
    "H5[:,3] = b[:,0]*meanVelGrad[:,3]\n",
    "H5[:,4] = b[:,4]*meanVelGrad[:,4]\n",
    "H5[:,5] = b[:,8]*meanVelGrad[:,5]\n",
    "H5[:,6] = b[:,0]*meanVelGrad[:,6]\n",
    "H5[:,7] = b[:,4]*meanVelGrad[:,7]\n",
    "H5[:,8] = b[:,8]*meanVelGrad[:,8]\n",
    "\n",
    "H6 = np.zeros((Gij.shape[0],9))\n",
    "for i in range(0,3):\n",
    "    for j in range(0,3):\n",
    "        for k in range(0,3):\n",
    "             H6[:,j+i*3] = H6[:,j+i*3]+b[:,k+j*3]*meanVelGrad[:,k*3+i]\n",
    "                \n",
    "        \n",
    "H7 = np.zeros((Gij.shape[0],9))\n",
    "for i in range(0,9):\n",
    "    H7[:,i] = b[:,i]*(meanVelGrad[:,0]+meanVelGrad[:,4]+meanVelGrad[:,8])\n",
    "    \n",
    "\n",
    "H8 = np.zeros((Gij.shape[0],9))\n",
    "for i in range(0,3):\n",
    "    for j in range(0,3):\n",
    "        for k in range(0,3):\n",
    "             H8[:,j+i*3] = H8[:,j+i*3]+b[:,k+i*3]*meanVelGrad[:,j+k*3]\n",
    "                \n",
    "H9 = np.zeros((Gij.shape[0],9))\n",
    "for i in range(0,3):\n",
    "    for j in range(0,3):\n",
    "        for k in range(0,3):\n",
    "             H9[:,j+i*3] = H9[:,j+i*3]+b[:,k+i*3]*meanVelGrad[:,j*3+k]\n",
    "                \n",
    "\n"
   ]
  },
  {
   "cell_type": "code",
   "execution_count": null,
   "metadata": {},
   "outputs": [],
   "source": [
    "def protected_div(x1, x2):\n",
    "    if abs(x2) < 1e-6:\n",
    "        return 1\n",
    "    return x1 / x2\n",
    "\n",
    "def protected_exp(x1):\n",
    "    if abs(x1) > 2:\n",
    "        return 1\n",
    "    return np.exp(x1)\n",
    "def protected_log(x1):\n",
    "    if x1 <= 1:\n",
    "        return 1\n",
    "    return np.log(x1)\n",
    "exp = np.vectorize(protected_exp)\n",
    "log = np.vectorize(protected_log)\n",
    "def mult_three(*args):    \n",
    "    out=1\n",
    "    for i in range(len(args)):\n",
    "        out = out*args[i]      \n",
    "    return out\n",
    "\n",
    "def add_three(*args):    \n",
    "    out=0\n",
    "    for i in range(len(args)):\n",
    "        out = out+args[i]      \n",
    "    return out\n"
   ]
  },
  {
   "cell_type": "code",
   "execution_count": null,
   "metadata": {},
   "outputs": [],
   "source": [
    "Gij.shape"
   ]
  },
  {
   "cell_type": "code",
   "execution_count": null,
   "metadata": {},
   "outputs": [],
   "source": [
    "slope = np.zeros((3,3,13))\n",
    "intercept = np.zeros((3,3,13))\n",
    "predict = np.zeros((3,3,K.shape[0]))\n",
    "for i in range(0,3):\n",
    "    for j in range(0,3):\n",
    "        reg = LR().fit(basis_vect[i,j,:,0:13],Gij[i,j,:]*eps/K)\n",
    "        slope[i,j,:] = reg.coef_\n",
    "        intercept[i,j,:] = reg.intercept_\n",
    "        predict[i,j,:] = reg.predict(basis_vect[i,j,:,0:13])"
   ]
  },
  {
   "cell_type": "code",
   "execution_count": null,
   "metadata": {},
   "outputs": [],
   "source": [
    "slope = np.zeros((3,3,18))\n",
    "intercept = np.zeros((3,3,18))\n",
    "data = np.reshape(basis_vect[:,:,:,0:18],[3*3*K.shape[0],18])\n",
    "SS = StandardScaler\n",
    "data = SS().fit_transform(data)\n",
    "\n",
    "reg = LR(normalize=True).fit(data,np.reshape(Gij[:,:,:]*eps/K,[3*3*K.shape[0]]))\n",
    "predict = reg.predict(data)"
   ]
  },
  {
   "cell_type": "code",
   "execution_count": null,
   "metadata": {},
   "outputs": [],
   "source": [
    "predict = np.reshape(predict,[3,3,K.shape[0]])"
   ]
  },
  {
   "cell_type": "code",
   "execution_count": null,
   "metadata": {},
   "outputs": [],
   "source": [
    "reg.coef_"
   ]
  },
  {
   "cell_type": "code",
   "execution_count": null,
   "metadata": {},
   "outputs": [],
   "source": [
    "intercept[:,:,0]"
   ]
  },
  {
   "cell_type": "code",
   "execution_count": null,
   "metadata": {},
   "outputs": [],
   "source": [
    "plt.figure()\n",
    "plt.scatter(np.reshape(Gij[:,:,:]*eps/K,[3*3*375]), predict)"
   ]
  },
  {
   "cell_type": "code",
   "execution_count": null,
   "metadata": {},
   "outputs": [],
   "source": [
    "basis_vect.shape"
   ]
  },
  {
   "cell_type": "code",
   "execution_count": null,
   "metadata": {},
   "outputs": [],
   "source": [
    "n = np.reshape(basis_vect[:,:,:,0:10],[3*3*375,10])"
   ]
  },
  {
   "cell_type": "code",
   "execution_count": null,
   "metadata": {},
   "outputs": [],
   "source": [
    "slope[0,0,:]"
   ]
  },
  {
   "cell_type": "code",
   "execution_count": null,
   "metadata": {},
   "outputs": [],
   "source": [
    "intercept[0,0,:]"
   ]
  },
  {
   "cell_type": "code",
   "execution_count": null,
   "metadata": {},
   "outputs": [],
   "source": [
    "plt.figure()\n",
    "plt.plot(basis_vect[0,0,:,0:10]*slope[0,0,:]+intercept[0,0,:])\n",
    "plt.plot(Gij[0,0,:],'--')\n"
   ]
  },
  {
   "cell_type": "code",
   "execution_count": null,
   "metadata": {},
   "outputs": [],
   "source": [
    "plt.figure()\n",
    "plt.scatter(Gij[2,1,:]*eps/K,predict[2,1,:]*eps/K)"
   ]
  },
  {
   "cell_type": "code",
   "execution_count": null,
   "metadata": {},
   "outputs": [],
   "source": [
    "LIPM.shape"
   ]
  },
  {
   "cell_type": "code",
   "execution_count": null,
   "metadata": {},
   "outputs": [],
   "source": [
    "plt.figure(figsize=(10,10))\n",
    "for i in range(0,3):\n",
    "    for j in range(0,3):\n",
    "        plt.subplot(3,3,i*3+j+1) \n",
    "        plt.plot(Gij[i,j,:]*eps/K)\n",
    "        \n",
    "        plt.plot((predict[i,j,:]))\n",
    "        #plt.plot((LIPM[i,j,:]))\n",
    "        \n",
    "        plt.locator_params(axis='y', nbins=4)\n",
    "        plt.locator_params(axis='x', nbins=3)\n",
    "        plt.title(str(i+1)+','+str(j+1))\n",
    "        \n",
    "        plt.gca().get_yaxis().set_major_formatter(ticker.FormatStrFormatter('%0.0e'))\n",
    "        plt.gca().get_xaxis().set_major_formatter(ticker.FormatStrFormatter('%0.0e'))\n",
    "        plt.grid(alpha=0.2)\n",
    "        if(i==0 and j==0):\n",
    "            plt.legend(('DNS','Model'))\n",
    "        plt.subplots_adjust(wspace=0.6)\n",
    "        plt.subplots_adjust(hspace=0.6)\n",
    "        #plt.gca().axes.get_yaxis().set_visible(False)\n",
    "        #plt.gca().axes.get_xaxis().set_visible(False)\n",
    "        #x = np.linspace(min(Gij[i,j,:]*eps/K),max(Gij[i,j,:]*eps/K),10)        \n",
    "        #plt.plot(x,x,'k--')\n",
    "#plt.savefig('Gij_linear_reg.png',dpi=300,bbox_inches = \"tight\")        "
   ]
  },
  {
   "cell_type": "code",
   "execution_count": null,
   "metadata": {},
   "outputs": [],
   "source": [
    "plt.figure()\n",
    "plt.plot(Gij[1,2,:]*eps/K)\n",
    "plt.plot(predict[1,2,:])"
   ]
  },
  {
   "cell_type": "code",
   "execution_count": null,
   "metadata": {},
   "outputs": [],
   "source": [
    "#pset = gep.PrimitiveSet('main', input_names=['B1','B2','B3','B4','B5','B6','B7','B8','B9','B10','I'])\n",
    "pset = gep.PrimitiveSet('main', input_names=['B1','B2','B3','B4','B5','B6','I'])\n",
    "#pset = gep.PrimitiveSet('main', input_names=['S1','S2','S3','S4','S5','S6','S7','S8',\n",
    "#                                              'T1','T2','T3','T4','T5','T6','T7','T8'])\n",
    "#pset = gep.PrimitiveSet('main', input_names=['b','H1','H2','H3','H4','H5','H6','H7','H8','H9'])                                             \n",
    "pset.add_function(operator.add, 2)\n",
    "#pset.add_function(operator.mul, 2)\n",
    "#pset.add_function(protected_div, 2)\n",
    "pset.add_function(operator.sub, 2)\n",
    "#pset.add_function(protected_exp, 1)\n",
    "#pset.add_function(protected_log, 1)\n",
    "pset.add_rnc_terminal()\n",
    "#pset.add_plasmid_terminal()\n",
    "\n",
    "#pset2 = gep.PrimitiveSet('main2', input_names=['T1','T2','T3','T4','T5','T6','T7','T8','T9','T10'])\n",
    "pset2 = gep.PrimitiveSet('main2', input_names=['T1','T2','T3','T4','T5','T6'])\n",
    "pset2.add_rnc_terminal()\n",
    "#pset2 = gep.PrimitiveSet('main2', input_names=['T1','T2','T3','T4','T5','T6','T7','T8','T9','T10'])\n",
    "pset2.add_function(operator.add, 2)\n",
    "pset2.add_function(operator.sub, 2)\n",
    "pset2.add_function(operator.mul, 2)\n",
    " \n"
   ]
  },
  {
   "cell_type": "code",
   "execution_count": null,
   "metadata": {},
   "outputs": [],
   "source": [
    "creator.create(\"FitnessMin\", base.Fitness, weights=(-1,))\n",
    "creator.create('Individual', gep.Chromosome, fitness=creator.FitnessMin)\n",
    "\n",
    "h = 3 # head length\n",
    "n_genes = 3\n",
    "toolbox = gep.Toolbox()\n",
    "r=10\n",
    "toolbox.register('rnc_gen', random.uniform, a=-1, b=1)   # each RNC is random integer within [-5, 5]\n",
    "toolbox.register('gene_gen', gep.GenePlasmid, pset=pset, head_length=h,rnc_gen=toolbox.rnc_gen, rnc_array_length=r,pset_plasmid=pset2,head_plasmid=3,n_plasmid=5)\n",
    "#toolbox.register('gene_gen', gep.GeneDc, pset=pset, head_length=h,rnc_gen=toolbox.rnc_gen, rnc_array_length=r)\n",
    "#toolbox.register('plasmid',  gep.Gene, pset=pset, head_length=h)\n",
    "toolbox.register('individual', creator.Individual, gene_gen=toolbox.gene_gen, n_genes=n_genes, linker=add_three)\n",
    "toolbox.register(\"population\", tools.initRepeat, list, toolbox.individual)\n",
    "\n"
   ]
  },
  {
   "cell_type": "code",
   "execution_count": null,
   "metadata": {},
   "outputs": [],
   "source": [
    "# compile utility: which translates an individual into an executable function (Lambda)\n",
    "toolbox.register('compile', gep.compile_plasmids, pset=pset, pset_plasmid=pset2)\n",
    "#toolbox.register('compile', gep.compile_, pset=pset)"
   ]
  },
  {
   "cell_type": "code",
   "execution_count": null,
   "metadata": {},
   "outputs": [],
   "source": [
    "def evaluate(individual):\n",
    "    \"\"\"Evalute the fitness of an individual: MSE (mean squared error)\"\"\"\n",
    "    func = toolbox.compile(individual)    \n",
    "    Yp = np.array(list(map(func, Tij,meanVelGrad)))     \n",
    "    #print(Yp.shape)\n",
    "    if(Yp.shape!=Gij.shape):\n",
    "        return (1e4,) # Some high value\n",
    "    return abs(np.mean((Gij - Yp) ** 2)),"
   ]
  },
  {
   "cell_type": "code",
   "execution_count": null,
   "metadata": {},
   "outputs": [],
   "source": [
    "out = Gij[1,1,:]\n",
    "def evaluate(individual):\n",
    "    \"\"\"Evalute the fitness of an individual: MSE (mean squared error)\"\"\"\n",
    "    func = toolbox.compile(individual)    \n",
    "    Yp = np.array(list(map(func, S1,S2,S3,S4,S5,S6,S7,S8,S9,S10,\n",
    "                            T1,T2,T3,T4,T5,T6,T7,T8,T9,T10)))   \n",
    "    #Yp = np.array(list(map(func, S1,S2,S3,S4,S5,S6,T1,T2,T3,T4,T5,T6)))     \n",
    "    #Yp = np.array(list(map(func, S1,S2,S5,S6,T3,T4)))     \n",
    "    #Yp = np.array(list(map(func, B1,B2,B3,T1,T2,T3)))     \n",
    "    #print(Yp.shape)\n",
    "    \n",
    "    return np.mean(abs(out - Yp)),"
   ]
  },
  {
   "cell_type": "code",
   "execution_count": null,
   "metadata": {},
   "outputs": [],
   "source": [
    "#maxs = np.max(abs(Gij),2)\n",
    "def evaluate_test(individual):\n",
    "    \"\"\"Evalute the fitness of an individual: MSE (mean squared error)\"\"\"\n",
    "    func = toolbox.compile(individual)    \n",
    "    Yp = func(B1,B2,B3,B4,B5,B6,I,T1,T2,T3,T4,T5,T6,I2,detT)\n",
    "    #Yp = func(B1,B2,B3,I,T1,T2,T3)\n",
    "    #Yp = np.array(list(map(func, B1,B2,B3,T1,T2,T3)))     \n",
    "    #print(Yp.shape)\n",
    "    #return np.mean(abs(Gij - Yp)), \n",
    "    #try:\n",
    "    #    pr = Yp[1,1,:]\n",
    "    #except:\n",
    "    #    pr = Yp\n",
    "    pr = Yp*eps[None,None,:]/K[None,None,:]       \n",
    "    \n",
    "    return np.mean((Gij*eps[None,None,:]/K[None,None,:] - pr)**2),  \n",
    " "
   ]
  },
  {
   "cell_type": "code",
   "execution_count": null,
   "metadata": {},
   "outputs": [],
   "source": [
    "def evaluate(individual):\n",
    "    \"\"\"Evalute the fitness of an individual: MSE (mean squared error)\"\"\"\n",
    "    func = toolbox.compile(individual)    \n",
    "    Yp = np.array(list(map(func, b[:,0]/K,H1[:,0]*tau,\n",
    "                                 H2[:,0]*tau,H3[:,0]*tau,H4[:,0]*tau,\n",
    "                                 H5[:,0]*tau,H6[:,0]*tau,H7[:,0]*tau,\n",
    "                                 H8[:,0]*tau,H9[:,0]*tau)))     \n",
    "    #print(Yp.shape)\n",
    "    #if(Yp.shape!=Gij.shape):\n",
    "    #    return (1e4,) # Some high value\n",
    "    return abs(np.mean((Gij[:,0]*tau - Yp) ** 2)),"
   ]
  },
  {
   "cell_type": "code",
   "execution_count": null,
   "metadata": {},
   "outputs": [],
   "source": [
    "def evaluate_linear_scaling(individual):\n",
    "    \"\"\"Evaluate the fitness of an individual with linearly scaled MSE.\n",
    "    Get a and b by minimizing (a*Yp + b - Y)\"\"\"\n",
    "    func = toolbox.compile(individual)\n",
    "    Yp = np.array(list(map(func, b[:,0]/K,H1[:,0]*tau,\n",
    "                                 H2[:,0]*tau,H3[:,0]*tau,H4[:,0]*tau,\n",
    "                                 H5[:,0]*tau,H6[:,0]*tau,H7[:,0]*tau,\n",
    "                                 H8[:,0]*tau,H9[:,0]*tau)))     \n",
    "    Vreal = Gij[:,0]*tau\n",
    "    \n",
    "    if isinstance(Yp, np.ndarray):\n",
    "        Q = np.hstack((np.reshape(Yp, (-1, 1)), np.ones((len(Yp), 1))))\n",
    "        (individual.a, individual.b), residuals, _, _ = np.linalg.lstsq(Q, Vreal, rcond=None)   \n",
    "        # residuals is the sum of squared errors\n",
    "        if residuals.size > 0:\n",
    "            #return residuals[0] / len(Vreal),   # MSE\n",
    "            return np.log(1+residuals[0] / len(Vreal)),   # MSE\n",
    "    \n",
    "    # for the above special cases, the optimal linear scaling is just the mean of true target values\n",
    "    individual.a = 0\n",
    "    individual.b = np.mean(Vreal)\n",
    "    #return np.mean((Vreal - individual.b) ** 2),\n",
    "    return np.log(1+np.mean((Vreal - individual.b) ** 2)),"
   ]
  },
  {
   "cell_type": "code",
   "execution_count": null,
   "metadata": {},
   "outputs": [],
   "source": [
    "def evaluate_linear_scaling_tensor(individual):\n",
    "    \"\"\"Evaluate the fitness of an individual with linearly scaled MSE.\n",
    "    Get a and b by minimizing (a*Yp + b - Y)\"\"\"\n",
    "    func = toolbox.compile(individual)\n",
    "    predict = func(B1,B2,B3,B4,B5,B6,I,T1,T2,T3,T4,T5,T6)\n",
    "    #predict = func(B1,B2,B3,B4,I)\n",
    "    predict = predict*eps[None,None,:]/K[None,None,:]\n",
    "    \n",
    "    #Vreal = out\n",
    "    resid = 0\n",
    "    a = np.zeros((3,3))\n",
    "    b = np.zeros((3,3))\n",
    "    #if not (predict.ndim==3):\n",
    "    #    individual.a = a\n",
    "    #    individual.b = b\n",
    "    #    if(resid <= 0.0):\n",
    "    #        # for the above special cases, the optimal linear scaling is just the mean of true target values\n",
    "    #        a = 0\n",
    "    #        b = np.mean(Gij,2)\n",
    "    #        individual.a=0        \n",
    "    #        individual.b=b\n",
    "    #        return np.mean((Gij*eps[None,None,:]/K[None,None,:] - individual.b[:,:,None])**2 ),\n",
    "        \n",
    "    for i in range(0,3):\n",
    "        for j in range(0,3):            \n",
    "                #print(predict.ndim,i,j)\n",
    "                try:         \n",
    "                    Yp = predict[i,j,:]\n",
    "                except:\n",
    "                    print(predict.ndim,i,j,predict.shape)\n",
    "                    Yp = np.reshape(predict,(Gij.shape[2]))\n",
    "                    #return\n",
    "                Q = np.hstack((np.reshape(Yp, (-1, 1)), np.ones((len(Yp), 1))))\n",
    "                #(a[i,j], b[i,j]), residuals, _, _ = np.linalg.lstsq(Q, Gij[i,j,:], rcond=None)   \n",
    "                (a[i,j], b[i,j]), residuals, _, _ = np.linalg.lstsq(Q, Gij[i,j,:]*eps/K, rcond=None)   \n",
    "                individual.a = a\n",
    "                individual.b = b\n",
    "                # residuals is the sum of squared errors\n",
    "                #if residuals.size > 0:\n",
    "                #    resid = resid+ residuals[0]/len(Gij[i,j,:])\n",
    "                    #return residuals[0] / len(Vreal),   # MSE\n",
    "                #else:\n",
    "                    #resid = resid + np.mean((Gij[i,j,:]*eps/K)**2)\n",
    "                #    resid = resid + np.mean((Gij[i,j,:])**2)\n",
    "                \n",
    "                pr = Yp*a[i,j]+b[i,j]\n",
    "                #resid = resid + mean_squared_error(Gij[i,j,:]*eps/K,pr)\n",
    "                resid = resid + np.mean((abs(Gij[i,j,:]*eps/K-pr)))\n",
    "                #resid = resid + np.mean((abs((Gij[i,j,:]*eps/K-pr)/Gij[i,j,:]*eps/K)))\n",
    "    \n",
    "        \n",
    "    return resid,\n",
    "    "
   ]
  },
  {
   "cell_type": "code",
   "execution_count": null,
   "metadata": {},
   "outputs": [],
   "source": [
    "hof[0][0].plasmid_array"
   ]
  },
  {
   "cell_type": "code",
   "execution_count": null,
   "metadata": {},
   "outputs": [],
   "source": [
    "hof[0][0]"
   ]
  },
  {
   "cell_type": "code",
   "execution_count": null,
   "metadata": {},
   "outputs": [],
   "source": [
    "out = Gij[0,0,:]*eps/K\n",
    "def evaluate_linear_scaling(individual):\n",
    "    \"\"\"Evaluate the fitness of an individual with linearly scaled MSE.\n",
    "    Get a and b by minimizing (a*Yp + b - Y)\"\"\"\n",
    "    func = toolbox.compile(individual)\n",
    "    Yp = np.array(list(map(func, S1,S2,S3,S4,S5,S6,S7,S8,\n",
    "                            T1,T2,T3,T4,T5,T6,T7,T8)))     \n",
    "    Vreal = out\n",
    "    Yp = Yp*eps/K\n",
    "    \n",
    "    if isinstance(Yp, np.ndarray):\n",
    "        Q = np.hstack((np.reshape(Yp, (-1, 1)), np.ones((len(Yp), 1))))\n",
    "        (individual.a, individual.b), residuals, _, _ = np.linalg.lstsq(Q, Vreal, rcond=None)   \n",
    "        # residuals is the sum of squared errors\n",
    "        if residuals.size > 0:\n",
    "            return residuals[0] / len(Vreal),   # MSE\n",
    "    \n",
    "    # for the above special cases, the optimal linear scaling is just the mean of true target values\n",
    "    individual.a = 0\n",
    "    individual.b = np.mean(Vreal)\n",
    "    return np.mean((Vreal - individual.b) ** 2),"
   ]
  },
  {
   "cell_type": "code",
   "execution_count": null,
   "metadata": {},
   "outputs": [],
   "source": [
    "toolbox.register('evaluate', evaluate_linear_scaling_tensor)\n",
    "#toolbox.register('evaluate', evaluate_test)\n",
    "toolbox.register('select', tools.selTournament, tournsize=10)\n"
   ]
  },
  {
   "cell_type": "code",
   "execution_count": null,
   "metadata": {},
   "outputs": [],
   "source": [
    "plt.figure()\n",
    "plt.plot(Gij[0,0,:])"
   ]
  },
  {
   "cell_type": "code",
   "execution_count": null,
   "metadata": {},
   "outputs": [],
   "source": []
  },
  {
   "cell_type": "code",
   "execution_count": null,
   "metadata": {},
   "outputs": [],
   "source": [
    "# 1. general operators\n",
    "toolbox.register('mut_uniform', gep.mutate_uniform, pset=pset, ind_pb=0.1,pb=0.8)\n",
    "toolbox.register('mut_invert', gep.invert, pb=0.1)\n",
    "toolbox.register('mut_is_transpose', gep.is_transpose, pb=0.1)\n",
    "toolbox.register('mut_ris_transpose', gep.ris_transpose, pb=0.1)\n",
    "#toolbox.register('mut_gene_transpose', gep.gene_transpose, pb=0.1)\n",
    "toolbox.register('cx_1p', gep.crossover_one_point, pb=0.1)\n",
    "#toolbox.register('cx_2p', gep.crossover_two_point, pb=0.3)\n",
    "#toolbox.register('cx_gene', gep.crossover_gene, pb=0.1)\n",
    "# 2. Dc-specific operators\n",
    "\n",
    "toolbox.register('mut_dc', gep.mutate_uniform_dc, ind_pb=0.1, pb=0.5)\n",
    "toolbox.register('mut_invert_dc', gep.invert_dc, pb=0.1)\n",
    "\n",
    "# This doesn't work with plasmid right now\n",
    "#toolbox.register('mut_transpose_dc', gep.transpose_dc, pb=0.1)\n",
    "\n",
    "# for some uniform mutations, we can also assign the ind_pb a string to indicate our expected number of point mutations in an individual\n",
    "toolbox.register('mut_rnc_array_dc', gep.mutate_rnc_array_dc, rnc_gen=toolbox.rnc_gen, ind_pb='0.1p')\n",
    "toolbox.pbs['mut_rnc_array_dc'] = 0.5  # we can also give the probability via the pbs property\n",
    "#Plasmid mutation\n",
    "toolbox.register('mut_unif_plasmid', gep.mutate_uniform_plasmid, pset_plasmid=pset2, ind_pb=0.4,pb=0.5)\n",
    "toolbox.register('mut_move_plasmid', gep.mutate_move_plasmid, ind_pb=0.4,pb=0.2)\n",
    "toolbox.register('mut_rnc_array_plasmid', gep.mutate_rnc_array_plasmid,  rnc_gen=toolbox.rnc_gen,ind_pb=0.4,pb=0.5)\n",
    "#toolbox.register('cx_plasmid', gep.crossover_one_point_plasmid, pb=0.4)\n"
   ]
  },
  {
   "cell_type": "code",
   "execution_count": null,
   "metadata": {},
   "outputs": [],
   "source": [
    "stats = tools.Statistics(key=lambda ind: ind.fitness.values[0])\n",
    "stats.register(\"avg\", np.mean)\n",
    "stats.register(\"min\", np.min)\n",
    "stats.register(\"max\", np.max)"
   ]
  },
  {
   "cell_type": "code",
   "execution_count": null,
   "metadata": {
    "scrolled": true
   },
   "outputs": [],
   "source": [
    "# size of population and number of generations\n",
    "bests = []\n",
    "loss = []\n",
    "n_pop = 100\n",
    "n_gen = 500\n",
    "champs = 3\n",
    "for i in range(0,1):\n",
    "    pop = toolbox.population(n=n_pop) # \n",
    "    hof = tools.HallOfFame(champs)   # only record the best three individuals ever found in all generations\n",
    "    pop, log = gep.gep_simple(pop, toolbox, n_generations=n_gen, n_elites=1,\n",
    "                           stats=stats,hall_of_fame=hof, verbose=True)\n",
    "    bests.append(hof[0])\n",
    "    loss.append(log[n_gen-1]['min'])\n",
    "    print(i)\n"
   ]
  },
  {
   "cell_type": "code",
   "execution_count": null,
   "metadata": {},
   "outputs": [],
   "source": [
    "plt.figure()\n",
    "plt.plot(loss)"
   ]
  },
  {
   "cell_type": "code",
   "execution_count": null,
   "metadata": {},
   "outputs": [],
   "source": [
    "loss.index(min(loss))"
   ]
  },
  {
   "cell_type": "code",
   "execution_count": null,
   "metadata": {},
   "outputs": [],
   "source": [
    "min(loss)"
   ]
  },
  {
   "cell_type": "code",
   "execution_count": null,
   "metadata": {},
   "outputs": [],
   "source": [
    "bests[13]"
   ]
  },
  {
   "cell_type": "code",
   "execution_count": null,
   "metadata": {
    "scrolled": true
   },
   "outputs": [],
   "source": [
    "pop, log = gep.gep_simple(pop, toolbox, n_generations=100, n_elites=1,\n",
    "                           stats=stats,hall_of_fame=hof, verbose=True)"
   ]
  },
  {
   "cell_type": "code",
   "execution_count": null,
   "metadata": {},
   "outputs": [],
   "source": [
    "plt.figure()\n",
    "plt.plot(B1[0,0,:]+B1[1,1,:]+B1[2,2,:])"
   ]
  },
  {
   "cell_type": "code",
   "execution_count": null,
   "metadata": {},
   "outputs": [],
   "source": [
    "B2.shape\n"
   ]
  },
  {
   "cell_type": "code",
   "execution_count": null,
   "metadata": {},
   "outputs": [],
   "source": [
    "hof[0][0]"
   ]
  },
  {
   "cell_type": "code",
   "execution_count": null,
   "metadata": {},
   "outputs": [],
   "source": [
    "Gij = Gij/10.0"
   ]
  },
  {
   "cell_type": "code",
   "execution_count": null,
   "metadata": {},
   "outputs": [],
   "source": [
    "len(pop[10][1].rnc_array)"
   ]
  },
  {
   "cell_type": "code",
   "execution_count": null,
   "metadata": {},
   "outputs": [],
   "source": [
    "pop[400][1]"
   ]
  },
  {
   "cell_type": "code",
   "execution_count": null,
   "metadata": {},
   "outputs": [],
   "source": [
    "hof[0]"
   ]
  },
  {
   "cell_type": "code",
   "execution_count": null,
   "metadata": {},
   "outputs": [],
   "source": [
    "plt.figure()\n",
    "plt.plot(T9*eps/K)\n",
    "#plt.plot(Gij[0,1]*eps/K)"
   ]
  },
  {
   "cell_type": "code",
   "execution_count": null,
   "metadata": {},
   "outputs": [],
   "source": [
    "hof[0].b"
   ]
  },
  {
   "cell_type": "code",
   "execution_count": null,
   "metadata": {},
   "outputs": [],
   "source": [
    "plt.figure()\n",
    "plt.plot(Gij[0,0,:])\n",
    "plt.plot(Gij[1,1,:])\n",
    "plt.plot(Gij[2,2,:])"
   ]
  },
  {
   "cell_type": "code",
   "execution_count": null,
   "metadata": {},
   "outputs": [],
   "source": [
    "hof[0].b"
   ]
  },
  {
   "cell_type": "code",
   "execution_count": null,
   "metadata": {},
   "outputs": [],
   "source": [
    "plt.figure()\n",
    "plt.plot(Gij[0,0,:])\n",
    "#plt.plot(I[0,0,:])"
   ]
  },
  {
   "cell_type": "code",
   "execution_count": null,
   "metadata": {},
   "outputs": [],
   "source": [
    "plt.figure()\n",
    "plt.plot(Gij[0,0,:])"
   ]
  },
  {
   "cell_type": "code",
   "execution_count": null,
   "metadata": {},
   "outputs": [],
   "source": [
    "plt.figure()\n",
    "plt.plot(T4)"
   ]
  },
  {
   "cell_type": "code",
   "execution_count": null,
   "metadata": {},
   "outputs": [],
   "source": [
    "avgs  = np.zeros(n_gen)\n",
    "best  = np.zeros(n_gen)\n",
    "for i in range(0,n_gen):\n",
    "    avgs[i] = log[i]['avg']\n",
    "    best[i] = log[i]['min']"
   ]
  },
  {
   "cell_type": "code",
   "execution_count": null,
   "metadata": {},
   "outputs": [],
   "source": [
    "plt.figure()\n",
    "plt.plot(avgs)\n",
    "#plt.plot(best)"
   ]
  },
  {
   "cell_type": "code",
   "execution_count": null,
   "metadata": {},
   "outputs": [],
   "source": [
    "DEFAULT_SYMBOLIC_FUNCTION_MAP = {\n",
    "    operator.and_.__name__: sp.And,\n",
    "    operator.or_.__name__: sp.Or,\n",
    "    operator.not_.__name__: sp.Not,\n",
    "    operator.add.__name__: operator.add,\n",
    "    operator.sub.__name__: operator.sub,\n",
    "    operator.mul.__name__: operator.mul,\n",
    "    operator.neg.__name__: operator.neg,\n",
    "    operator.floordiv.__name__: operator.floordiv,\n",
    "    operator.truediv.__name__: operator.truediv,\n",
    "    'protected_div': operator.truediv,\n",
    "    'protected_exp': sp.functions.elementary.exponential.exp,\n",
    "    'protected_log': sp.functions.elementary.exponential.log,\n",
    "    #math.log.__name__: sp.log\n",
    "    \n",
    "}"
   ]
  },
  {
   "cell_type": "code",
   "execution_count": null,
   "metadata": {},
   "outputs": [],
   "source": [
    "for i in range(1):\n",
    "    ind = hof[i]\n",
    "    func = gep.simplify(ind)    \n",
    "    func = ind.a * func + ind.b\n",
    "    print('Symplified best individual {}: '.format(i))\n",
    "    print(func)"
   ]
  },
  {
   "cell_type": "code",
   "execution_count": null,
   "metadata": {},
   "outputs": [],
   "source": [
    "gep.simplify(hof[0])"
   ]
  },
  {
   "cell_type": "code",
   "execution_count": null,
   "metadata": {},
   "outputs": [],
   "source": [
    "hof[0].b"
   ]
  },
  {
   "cell_type": "code",
   "execution_count": null,
   "metadata": {},
   "outputs": [],
   "source": [
    "hof_5 = hof[0]"
   ]
  },
  {
   "cell_type": "code",
   "execution_count": null,
   "metadata": {},
   "outputs": [],
   "source": [
    "res = B2*(T1-T2+T5)+B7*T4*(T1+1)+T4*(I-0.943)+(B2+B7)*(T1+T7)**2 + (B3+B9)*(T3+T5+T8-detT)"
   ]
  },
  {
   "cell_type": "code",
   "execution_count": null,
   "metadata": {},
   "outputs": [],
   "source": [
    "pred=res"
   ]
  },
  {
   "cell_type": "code",
   "execution_count": null,
   "metadata": {},
   "outputs": [],
   "source": [
    "plt.figure()\n",
    "plt.plot(T2*T3*eps/K)"
   ]
  },
  {
   "cell_type": "code",
   "execution_count": null,
   "metadata": {},
   "outputs": [],
   "source": [
    "gep.simplify(hof[0])"
   ]
  },
  {
   "cell_type": "code",
   "execution_count": null,
   "metadata": {},
   "outputs": [],
   "source": [
    "plt.figure()\n",
    "plt.plot(Gij[0,0,:])"
   ]
  },
  {
   "cell_type": "code",
   "execution_count": null,
   "metadata": {},
   "outputs": [],
   "source": [
    "plt.figure()\n",
    "plt.plot(T2)"
   ]
  },
  {
   "cell_type": "code",
   "execution_count": null,
   "metadata": {},
   "outputs": [],
   "source": [
    "mse = np.zeros(100)\n",
    "fitn = np.zeros(100)\n",
    "\n",
    "for i in range(0,1):\n",
    "    func = gep.simplify(pop[i],DEFAULT_SYMBOLIC_FUNCTION_MAP)    \n",
    "    pred = CalculateBestModelOutput(S1,S2,S3,T1,T2,T3,str(func))\n",
    "    mse[i] = mean_squared_error(out,pred)\n",
    "    fitn[i] = pop[i].fitness.values[0]\n",
    "\n",
    "    "
   ]
  },
  {
   "cell_type": "code",
   "execution_count": null,
   "metadata": {},
   "outputs": [],
   "source": [
    "f = gep.compile_plasmids(hof[0],pset,pset2)\n",
    "#f = gep.compile_(hof[0],pset)\n",
    "#pred = f(B1,B2,B3,B4,B5,B6,B7,B8,B9,B10,I,T1,T2,T3,T4,T5,T6,T7,T8,T9,T10)\n",
    "pred = f(B1,B2,B3,B4,B5,B6,I,T1,T2,T3,T4,T5,T6)\n",
    "#pred = f(B1,B2,B3,B4,I)\n",
    "#pred = f(S1,S2,S3,S4,S5,S6,T1,T2,T3,T4,T5,T6)\n",
    "#pred = f(S1,S2,S3,S4,S5,S6,S7,S8,T1,T2,T3,T4,T5,T6,T7,T8)\n",
    "#pred = f(b[:,0]/K,H1[:,0]*tau,H2[:,0]*tau,H3[:,0]*tau,H4[:,0]*tau,H5[:,0]*tau,H6[:,0]*tau,H7[:,0]*tau,H8[:,0]*tau,H9[:,0]*tau)\n",
    "#red = f(S1,S2,S3,S4,T1,T2,T3,T4)"
   ]
  },
  {
   "cell_type": "code",
   "execution_count": null,
   "metadata": {},
   "outputs": [],
   "source": [
    "pop[10][3]"
   ]
  },
  {
   "cell_type": "code",
   "execution_count": null,
   "metadata": {},
   "outputs": [],
   "source": [
    "pop[10][0]"
   ]
  },
  {
   "cell_type": "code",
   "execution_count": null,
   "metadata": {},
   "outputs": [],
   "source": [
    "plt.figure()\n",
    "plt.scatter(Gij[0,1,:],p[0,1,:]*hof[0].a[0,1]+hof[0].b[0,1])\n",
    "x = np.linspace(min(Gij[i1,i2,:]),max(Gij[i1,i2,:]),10)\n",
    "plt.plot(x,x,'k--')"
   ]
  },
  {
   "cell_type": "code",
   "execution_count": null,
   "metadata": {},
   "outputs": [],
   "source": [
    "for i in range(0,3):\n",
    "    for j in range(0,3):\n",
    "        pred[i,j,:] = savgol_filter(pred[i,j,:], 101, 3) # window size 51, polynomial order 3\n"
   ]
  },
  {
   "cell_type": "code",
   "execution_count": null,
   "metadata": {},
   "outputs": [],
   "source": [
    "pred.shape"
   ]
  },
  {
   "cell_type": "code",
   "execution_count": null,
   "metadata": {
    "scrolled": false
   },
   "outputs": [],
   "source": [
    "plt.figure()\n",
    "i1 = 1\n",
    "i2  = 1\n",
    "\n",
    "#plt.scatter(Gij[i1,i2,:]*eps/K,pred[i1,i2,:]*eps/K*hof[0].a[i1,i2]+hof[0].b[i1,i2],marker='.')\n",
    "plt.scatter(Gij[i1,i2,:]*eps/K,(pred[i1,i2,:]*hof[0].a[i1,i2]+hof[0].b[i1,i2])*eps/K,marker='.')\n",
    "#plt.scatter(Gij[i1,i2,:],pred+hof[0].b[i1,i2],marker='.')\n",
    "#plt.scatter(Gij[i1,i2,:]*eps/K,(pred*eps/K*hof[0].a+hof[0].b),marker='.')\n",
    "#plt.scatter(Gij[i1,i2,:]*eps/K,(pred[i1,i2])*eps/K,marker='.')\n",
    "#plt.scatter(Gij[1,1,:],pred[1,1,:],marker='.')\n",
    "#plt.plot(pred[i1,i2])\n",
    "x = np.linspace(min(Gij[i1,i2,:]*eps/K),max(Gij[i1,i2,:]*eps/K),10)\n",
    "plt.plot(x,x,'k--')"
   ]
  },
  {
   "cell_type": "code",
   "execution_count": null,
   "metadata": {},
   "outputs": [],
   "source": [
    "plt.figure()\n",
    "for i in range(0,3):\n",
    "    for j in range(0,3):\n",
    "        plt.subplot(3,3,i*3+j+1)\n",
    "        plt.scatter(Gij[i,j,:]*eps/K,(pred[i,j,:]*hof[0].a[i,j]+hof[0].b[i,j])*eps/K,marker='.')\n",
    "        x = np.linspace(min(Gij[i,j,:]*eps/K),max(Gij[i,j,:]*eps/K),10)        \n",
    "        plt.plot(x,x,'k--')\n",
    "        \n",
    "#plt.scatter(Gij[i1,i2,:],pred+hof[0].b[i1,i2],marker='.')\n",
    "#plt.scatter(Gij[i1,i2,:]*eps/K,(pred*eps/K*hof[0].a+hof[0].b),marker='.')\n",
    "#plt.scatter(Gij[i1,i2,:]*eps/K,(pred[i1,i2])*eps/K,marker='.')\n",
    "#plt.scatter(Gij[1,1,:],pred[1,1,:],marker='.')\n",
    "#plt.plot(pred[i1,i2])\n",
    "#x = np.linspace(min(Gij[i1,i2,:]*eps/K),max(Gij[i1,i2,:]*eps/K),10)\n",
    "#plt.plot(x,x,'k--')"
   ]
  },
  {
   "cell_type": "code",
   "execution_count": null,
   "metadata": {},
   "outputs": [],
   "source": [
    "plt.figure(figsize=(10,10))\n",
    "for i in range(0,3):\n",
    "    for j in range(0,3):\n",
    "        plt.subplot(3,3,i*3+j+1)\n",
    "        #plt.scatter(Gij[i,j,:],(pred[i,j,:]*hof[0].a[i,j]+hof[0].b[i,j]),marker='.')\n",
    "        plt.scatter(Gij[i,j,:]*eps/K,(pred[i,j,:]*eps/K*hof[0].a[i,j]+hof[0].b[i,j]),marker='.')\n",
    "        #plt.scatter(Gij[i,j,:]*eps/K,pred[i,j,:]*eps/K,marker='.')\n",
    "        #x = np.linspace(min(Gij[i,j,:]*eps/K),max(Gij[i,j,:]*eps/K),10)        \n",
    "        x = np.linspace(min(Gij[i,j,:]*eps/K),max(Gij[i,j,:]*eps/K),10)        \n",
    "        plt.plot(x,x,'k--')\n",
    "        plt.locator_params(axis='y', nbins=4)\n",
    "        plt.locator_params(axis='x', nbins=3)\n",
    "        plt.title(str(i+1)+','+str(j+1))\n",
    "\n",
    "        plt.gca().get_yaxis().set_major_formatter(ticker.FormatStrFormatter('%0.0e'))\n",
    "        plt.gca().get_xaxis().set_major_formatter(ticker.FormatStrFormatter('%0.0e'))\n",
    "        plt.grid(alpha=0.2)\n",
    "        plt.subplots_adjust(wspace=0.6)\n",
    "        plt.subplots_adjust(hspace=0.6)\n",
    "        #plt.gca().axes.get_yaxis().set_visible(False)\n",
    "        #plt.gca().axes.get_xaxis().set_visible(False)\n",
    "#plt.savefig('Gij_scatter_head_5_n_5_B8.png',dpi=300,bbox_inches = \"tight\")        "
   ]
  },
  {
   "cell_type": "code",
   "execution_count": null,
   "metadata": {},
   "outputs": [],
   "source": [
    "plt.figure(figsize=(10,10))\n",
    "for i in range(0,3):\n",
    "    for j in range(0,3):\n",
    "        plt.subplot(3,3,i*3+j+1)\n",
    "        \n",
    "        \n",
    "        plt.plot(Gij[i,j,:]*eps/K)\n",
    "        #plt.plot((pred[i,j,:]*eps/K*hof[0].a[i,j]+hof[0].b[i,j]))\n",
    "        plt.plot((pred[i,j,:]*eps/K*hof[0].a[i,j]+hof[0].b[i,j]))\n",
    "        #plt.plot((pred[i,j,:])*eps/K)\n",
    "        plt.locator_params(axis='y', nbins=4)\n",
    "        plt.locator_params(axis='x', nbins=3)\n",
    "        plt.title(str(i+1)+','+str(j+1))\n",
    "        \n",
    "        plt.gca().get_yaxis().set_major_formatter(ticker.FormatStrFormatter('%0.0e'))\n",
    "        plt.gca().get_xaxis().set_major_formatter(ticker.FormatStrFormatter('%0.0e'))\n",
    "        plt.grid(alpha=0.2)\n",
    "        if(i==0 and j==0):\n",
    "            plt.legend(('DNS','Model'))\n",
    "        plt.subplots_adjust(wspace=0.6)\n",
    "        plt.subplots_adjust(hspace=0.6)\n",
    "        #plt.gca().axes.get_yaxis().set_visible(False)\n",
    "        #plt.gca().axes.get_xaxis().set_visible(False)\n",
    "        #x = np.linspace(min(Gij[i,j,:]*eps/K),max(Gij[i,j,:]*eps/K),10)        \n",
    "        #plt.plot(x,x,'k--')\n",
    "#plt.savefig('Gij_head_5_n_5_B8.png',dpi=300,bbox_inches = \"tight\")        "
   ]
  },
  {
   "cell_type": "code",
   "execution_count": null,
   "metadata": {},
   "outputs": [],
   "source": [
    "plt.figure()\n",
    "i1=1\n",
    "i2=1\n",
    "#plt.plot((pred[i1,i2,:]*eps/K*hof[0].a[i1,i2]+hof[0].b[i1,i2]))\n",
    "#plt.plot((pred[i1,i2,:]))\n",
    "#plt.plot(((Gij[i1,i2,:]*eps/K-hof[0].b[i1,i2])/hof[0].a[i1,i2])*K/eps)\n",
    "plt.plot((pred[i1,i2,:]*hof[0].a[i1,i2]+hof[0].b[i1,i2])*eps/K)\n",
    "#plt.plot((pred[i1,i2,:]*hof[0].a[i1,i2]+hof[0].b[i1,i2])*eps/K)\n",
    "#plt.plot((pred[i1,i2]))\n",
    "plt.plot(Gij[i1,i2,:]*eps/K)\n",
    "#plt.plot(-0.5*eps/K)\n",
    "#plt.plot((pred*eps/K*hof[0].a+hof[0].b))\n",
    "#plt.plot(mod1[i1,i2,:])\n",
    "#plt.plot(T6)\n",
    "#plt.plot(B1[0,0,:])\n",
    "#plt.scatter(out,pred)\n",
    "#x = np.linspace(min(out),max(out),10)\n",
    "#plt.plot(x,x,'k--')\n"
   ]
  },
  {
   "cell_type": "code",
   "execution_count": null,
   "metadata": {},
   "outputs": [],
   "source": [
    "#Pi_ij = 2/3eps deltaij + Gil*Tlj + Gjl*Tli\n",
    "# Note that G, T will be nondimensionalised\n",
    "# Remember TKE redistribution term is half the trace\n",
    " def DNS_result():\n",
    "    pi_ij = np.zeros((3,3,K.shape[0]))\n",
    "    for i in range(0,K.shape[0]):\n",
    "        pi_ij[:,:,i] = 2.0/3.0*np.eye(3,3) + np.matmul(Gij[:,:,i],Tij[:,:,i]) + np.matmul(np.transpose(Gij[:,:,i]),np.transpose(Tij[:,:,i]))   \n",
    "    return pi_ij\n",
    "    \n",
    "    #2.0/3*eps*np.eye(3,3)\n",
    "    \n",
    "    "
   ]
  },
  {
   "cell_type": "code",
   "execution_count": null,
   "metadata": {},
   "outputs": [],
   "source": [
    "Gij.shape"
   ]
  },
  {
   "cell_type": "code",
   "execution_count": null,
   "metadata": {},
   "outputs": [],
   "source": [
    "#Pi_ij = 2/3eps deltaij + Gil*Tlj + Gjl*Tli\n",
    "# Note that G, T will be nondimensionalised\n",
    "# Remember TKE redistribution term is half the trace\n",
    " def DNS_result():\n",
    "    pi_ij = np.zeros(K.shape[0])\n",
    "    for i in range(0,3):\n",
    "        for j in range(0,3):\n",
    "            pi_ij = pi_ij + Gij[i,j,:]*Tij[i,j,:]  \n",
    "    return pi_ij\n",
    "    \n",
    "    #2.0/3*eps*np.eye(3,3)\n",
    "    \n",
    "    "
   ]
  },
  {
   "cell_type": "code",
   "execution_count": null,
   "metadata": {},
   "outputs": [],
   "source": [
    "# Remember TKE redistribution term is half the trace\n",
    "def GEP_result():\n",
    "    pi_ij = np.zeros((3,3,K.shape[0]))    \n",
    "    for i in range(0,K.shape[0]):\n",
    "        pi_ij[:,:,i] = 2.0/3*np.eye(3,3) + np.matmul(pred[:,:,i],Tij[:,:,i]) + np.matmul(np.transpose(pred[:,:,i]),np.transpose(Tij[:,:,i]))   \n",
    "    return pi_ij\n",
    "    "
   ]
  },
  {
   "cell_type": "code",
   "execution_count": null,
   "metadata": {},
   "outputs": [],
   "source": [
    "# Remember TKE redistribution term is half the trace\n",
    "def GEP_result():\n",
    "    pi_ij = np.zeros(K.shape[0])    \n",
    "    for i in range(0,3):\n",
    "        for j in range(0,3):\n",
    "            pi_ij = pi_ij + pred[i,j,:]*Tij[i,j,:]  \n",
    "    return pi_ij\n",
    "    "
   ]
  },
  {
   "cell_type": "code",
   "execution_count": null,
   "metadata": {},
   "outputs": [],
   "source": [
    "# Remember TKE redistribution term is half the trace\n",
    "def LIPM_result():\n",
    "    pi_ij = np.zeros(K.shape[0])    \n",
    "    for i in range(0,3):\n",
    "        for j in range(0,3):\n",
    "            pi_ij = pi_ij + LIPM[i,j,:]*K/eps*Tij[i,j,:]  \n",
    "    return pi_ij\n",
    "    "
   ]
  },
  {
   "cell_type": "code",
   "execution_count": null,
   "metadata": {},
   "outputs": [],
   "source": [
    "# Remember TKE redistribution term is half the trace\n",
    "def LSSG_result():\n",
    "    pi_ij = np.zeros(K.shape[0])    \n",
    "    for i in range(0,3):\n",
    "        for j in range(0,3):\n",
    "            pi_ij = pi_ij + LSSG[i,j,:]*K/eps*Tij[i,j,:]  \n",
    "    return pi_ij\n",
    "    \n",
    "    "
   ]
  },
  {
   "cell_type": "code",
   "execution_count": null,
   "metadata": {},
   "outputs": [],
   "source": [
    "for i in range(0,3):\n",
    "    for j in range(0,3):\n",
    "        pred[i,j,:] = pred[i,j,:]*eps/K*hof[0].a[i,j]+hof[0].b[i,j]\n",
    "pred = pred*K[None,None,:]/eps[None,None,:]"
   ]
  },
  {
   "cell_type": "code",
   "execution_count": null,
   "metadata": {},
   "outputs": [],
   "source": [
    "# Remember TKE redistribution term is half the trace\n",
    "def rotta_model():\n",
    "    return -8.3*np.moveaxis(b,0,-1)\n"
   ]
  },
  {
   "cell_type": "code",
   "execution_count": null,
   "metadata": {},
   "outputs": [],
   "source": [
    "#Note quantities are non-dimensionalised\n",
    "#Remember TKE redistribution term is half the trace\n",
    "\n",
    "def IPM_model():\n",
    "    pi = np.zeros((3,3,K.shape[0]))\n",
    "    # More clear this way\n",
    "    for i in range(0,K.shape[0]):\n",
    "        pi[:,:,i] = -3.6*b[i,:,:] + 0.8*Sij[i,:,:] + 1.2*(np.matmul(Sij[i,:,:],b[i,:,:])+ \\\n",
    "                        np.matmul(np.transpose(Sij[i,:,:]),np.transpose(b[i,:,:])) - \\\n",
    "                        2.0/3.0*np.trace(np.matmul(Sij[i,:,:],b[i,:,:]))*np.eye(3,3)) + \\\n",
    "                        1.2*(np.matmul(omega[i,:,:],b[i,:,:])+np.matmul(np.transpose(omega[i,:,:]),np.transpose(b[i,:,:])))\n",
    "       \n",
    "    return pi\n",
    "    \n",
    "     "
   ]
  },
  {
   "cell_type": "code",
   "execution_count": null,
   "metadata": {},
   "outputs": [],
   "source": [
    "pred = np.zeros((3,3,K.shape[0]))\n",
    "for i in range(0,3):\n",
    "    for j in range(0,3):\n",
    "        for k in range(0,3):\n",
    "            pred[i,j,:] = pred[i,j,:]+omega[:,i,k]*b[:,k,j]+omega[:,j,k]*b[:,k,i]"
   ]
  },
  {
   "cell_type": "code",
   "execution_count": null,
   "metadata": {},
   "outputs": [],
   "source": [
    "# Remember TKE redistribution term is half the trace\n",
    "def SSG_model():\n",
    "    pi = np.zeros((3,3,K.shape[0]))\n",
    "    # More clear this way\n",
    "    for i in range(0,K.shape[0]):\n",
    "        pi[:,:,i] = -3.4*b[i,:,:] + 4.2*(np.matmul(b[i,:,:],b[i,:,:])-1.0/3*(b[i,0,0]**2+b[i,1,1]**2+b[i,2,2]**2)*np.eye(3,3)) +\\\n",
    "        + 0.8*Sij[i,:,:] + 1.25*(np.matmul(Sij[i,:,:],b[i,:,:]) + \\\n",
    "        np.matmul(np.transpose(Sij[i,:,:]),np.transpose(b[i,:,:])) - 2.0/3*np.trace(np.matmul(Sij[i,:,:],b[i,:,:]))*np.eye(3,3))  + \\\n",
    "        0.4*(np.matmul(omega[i,:,:],b[i,:,:])+np.matmul(np.transpose(omega[i,:,:]),np.transpose(b[i,:,:])))\n",
    "        \n",
    "    return pi"
   ]
  },
  {
   "cell_type": "code",
   "execution_count": null,
   "metadata": {},
   "outputs": [],
   "source": [
    "g = GEP_result()"
   ]
  },
  {
   "cell_type": "code",
   "execution_count": null,
   "metadata": {},
   "outputs": [],
   "source": [
    "predict.shape"
   ]
  },
  {
   "cell_type": "code",
   "execution_count": null,
   "metadata": {},
   "outputs": [],
   "source": [
    "pred = predict*K[None,None,:]/eps[None,None,:]"
   ]
  },
  {
   "cell_type": "code",
   "execution_count": null,
   "metadata": {},
   "outputs": [],
   "source": [
    "ipm = IPM_model()"
   ]
  },
  {
   "cell_type": "code",
   "execution_count": null,
   "metadata": {},
   "outputs": [],
   "source": [
    "rot = rotta_model()\n",
    "ssg = SSG_model()"
   ]
  },
  {
   "cell_type": "code",
   "execution_count": null,
   "metadata": {},
   "outputs": [],
   "source": [
    "p = DNS_result()"
   ]
  },
  {
   "cell_type": "code",
   "execution_count": null,
   "metadata": {},
   "outputs": [],
   "source": [
    "l = LIPM_result()"
   ]
  },
  {
   "cell_type": "code",
   "execution_count": null,
   "metadata": {},
   "outputs": [],
   "source": [
    "s = LSSG_result()"
   ]
  },
  {
   "cell_type": "code",
   "execution_count": null,
   "metadata": {},
   "outputs": [],
   "source": [
    "ps = np.loadtxt('../GLM/press_strain.dat')\n",
    "pt = np.loadtxt('../GLM/press_trans.dat')\n",
    "epsij = np.loadtxt('../GLM/epsij.dat')\n",
    "ps = ps[loend:hiend,:]\n",
    "pt = pt[loend:hiend,:]\n",
    "epsij = epsij[loend:hiend,:]"
   ]
  },
  {
   "cell_type": "code",
   "execution_count": null,
   "metadata": {},
   "outputs": [],
   "source": [
    "plt.figure()\n",
    "plt.plot(p*eps)\n",
    "plt.plot(g*eps)\n",
    "plt.plot(l*eps)\n",
    "plt.plot(s*eps)\n",
    "#plt.plot(-(pt[:,0]+pt[:,4]+pt[:,8])/2+(ps[:,0]+ps[:,4]+ps[:,8])/2-eps)\n",
    "plt.legend(('DNS','GEP','LIPM','LSSG'))\n",
    "plt.savefig('TKE_h3_n3.png',dpi=300,bbox_inches = \"tight\")        \n",
    "\n"
   ]
  },
  {
   "cell_type": "code",
   "execution_count": null,
   "metadata": {},
   "outputs": [],
   "source": [
    "ps.shape"
   ]
  },
  {
   "cell_type": "code",
   "execution_count": null,
   "metadata": {},
   "outputs": [],
   "source": [
    "p_DNS = np.zeros((3,3,K.shape[0]))\n",
    "p_GEP = np.zeros((3,3,K.shape[0]))\n",
    "p_LIPM = np.zeros((3,3,K.shape[0]))\n",
    "p_LSSG = np.zeros((3,3,K.shape[0]))\n",
    "\n",
    "\n",
    "for i in range(0,3):\n",
    "    for j in range(0,3):\n",
    "        for k in range(0,3):\n",
    "            p_DNS[i,j,:]  = p_DNS[i,j,:]+Gij[i,k,:]*Tij[k,j,:]+Gij[j,k,:]*Tij[k,i,:]\n",
    "            #p_GEP[i,j,:]  = p_GEP[i,j,:]+pred[i,k,:]*Tij[k,j,:]+pred[j,k,:]*Tij[k,i,:]\n",
    "            p_LIPM[i,j,:] = p_LIPM[i,j,:]+LIPM[i,k,:]*K/eps*Tij[k,j,:]+LIPM[j,k,:]*K/eps*Tij[k,i,:]\n",
    "            p_GEP[i,j,:]  = p_GEP[i,j,:]+predict[i,k,:]*K/eps*Tij[k,j,:]+predict[j,k,:]*K/eps*Tij[k,i,:]\n",
    "            #p_LSSG[i,j,:] = p_LSSG[i,j,:]+LSSG[i,k,:]*K/eps*Tij[k,j,:]+LSSG[j,k,:]*K/eps*Tij[k,i,:]"
   ]
  },
  {
   "cell_type": "code",
   "execution_count": null,
   "metadata": {},
   "outputs": [],
   "source": []
  },
  {
   "cell_type": "code",
   "execution_count": null,
   "metadata": {},
   "outputs": [],
   "source": [
    "plt.figure()\n",
    "plt.plot(p_DNS*eps)\n",
    "plt.plot(p_GEP*eps)\n",
    "plt.plot(p_LIPM*eps)\n",
    "plt.plot(p_LSSG*eps)\n",
    "#plt.plot(ps[:,3]-epsij[:,3]-pt[:,3])\n",
    "plt.legend(('DNS','GEP','LIPM','LSSG'))\n"
   ]
  },
  {
   "cell_type": "code",
   "execution_count": null,
   "metadata": {},
   "outputs": [],
   "source": [
    "plt.figure(figsize=(10,10))\n",
    "for i in range(0,3):\n",
    "    for j in range(0,3):\n",
    "        plt.subplot(3,3,i*3+j+1)       \n",
    "        plt.plot(p_DNS[i,j,:]*eps)\n",
    "        plt.plot(p_GEP[i,j,:]*eps)\n",
    "        plt.plot(p_LIPM[i,j,:]*eps)\n",
    "        #plt.plot(p_LSSG[i,j,:]*eps)\n",
    "        \n",
    "        plt.locator_params(axis='y', nbins=4)\n",
    "        plt.locator_params(axis='x', nbins=3)\n",
    "        plt.title(str(i+1)+','+str(j+1))\n",
    "        \n",
    "        plt.gca().get_yaxis().set_major_formatter(ticker.FormatStrFormatter('%0.0e'))\n",
    "        plt.gca().get_xaxis().set_major_formatter(ticker.FormatStrFormatter('%0.0e'))\n",
    "        plt.grid(alpha=0.2)\n",
    "        if(i==0 and j==0):\n",
    "            plt.legend(('DNS','GEP','LIPM','LSSG'))\n",
    "        plt.subplots_adjust(wspace=0.6)\n",
    "        plt.subplots_adjust(hspace=0.6)\n",
    "        #plt.gca().axes.get_yaxis().set_visible(False)\n",
    "        #plt.gca().axes.get_xaxis().set_visible(False)\n",
    "        #x = np.linspace(min(Gij[i,j,:]*eps/K),max(Gij[i,j,:]*eps/K),10)        \n",
    "        #plt.plot(x,x,'k--')\n",
    "#plt.savefig('RSM_Linear_reg.png',dpi=300,bbox_inches = \"tight\")        "
   ]
  },
  {
   "cell_type": "code",
   "execution_count": null,
   "metadata": {},
   "outputs": [],
   "source": [
    "Gij.shape"
   ]
  },
  {
   "cell_type": "code",
   "execution_count": null,
   "metadata": {},
   "outputs": [],
   "source": [
    "plt.figure()\n",
    "#plt.plot((q[2,2,:]+q[1,1,:]+q[0,0,:])*eps*0.5)\n",
    "plt.plot(p*eps)\n",
    "#lt.plot(q[2,2])\n",
    "plt.plot(g*eps)\n",
    "#plt.plot(p[2,2])\n",
    "#plt.plot((ipm[0,0,:]+ipm[1,1,:]+ipm[2,2,:])*eps*0.5)\n",
    "#plt.plot((rot[0,0,:]+rot[1,1,:]+rot[2,2,:])*eps)\n",
    "#plt.plot((ssg[0,0,:]+ssg[1,1,:]+ssg[2,2,:])*eps*0.5)\n",
    "plt.plot(-eps-(pt[:,0]+pt[:,4]+pt[:,8])*0.5+(ps[:,0]+ps[:,4]+ps[:,8])*0.5)\n",
    "plt.legend(('DNS','GEP','Actual'))\n",
    "plt.xlabel('Points')\n",
    "plt.ylabel('Magnitude')\n",
    "#plt.savefig('TKE_head_3_n_3_B6.png',dpi=300,bbox_inches = \"tight\")        "
   ]
  },
  {
   "cell_type": "code",
   "execution_count": null,
   "metadata": {},
   "outputs": [],
   "source": [
    "Tij.shape"
   ]
  },
  {
   "cell_type": "code",
   "execution_count": null,
   "metadata": {},
   "outputs": [],
   "source": [
    "pred = np.zeros((K.shape[0]))\n",
    "#for i in range(0,9):\n",
    "         #pred = pred + Gij[:,i]*Tij[:,i]\n",
    "for i in range(0,3):\n",
    "    for j in range(0,3):\n",
    "        pred = pred + mod1[i,j,:]*Tij[i,j,:]*K\n",
    "        "
   ]
  },
  {
   "cell_type": "code",
   "execution_count": null,
   "metadata": {},
   "outputs": [],
   "source": [
    "p=np.matmul(np.moveaxis(Gij,2,0),np.moveaxis(Tij,2,0))"
   ]
  },
  {
   "cell_type": "code",
   "execution_count": null,
   "metadata": {},
   "outputs": [],
   "source": [
    "np.transpose(p,(0,2,1))"
   ]
  },
  {
   "cell_type": "code",
   "execution_count": null,
   "metadata": {},
   "outputs": [],
   "source": [
    "b.shape"
   ]
  },
  {
   "cell_type": "code",
   "execution_count": null,
   "metadata": {},
   "outputs": [],
   "source": [
    "plt.figure()    \n",
    "plt.plot(pred*eps+eps)\n",
    "plt.plot((p[2,2,:]+p[1,1,:]+p[0,0,:])*eps*0.5)\n",
    "\n",
    "#plt.plot(-eps)"
   ]
  },
  {
   "cell_type": "code",
   "execution_count": null,
   "metadata": {},
   "outputs": [],
   "source": [
    "def HP_models(C0,alpha2,alpha3,beta2,beta3,gama2,gama3,gama5,gama6,lambdaij):\n",
    "    #Take care of units\n",
    "    pred = np.zeros((3,3,K.shape[0]))\n",
    "    beta1=beta3\n",
    "    \n",
    "    gama_star = gama2+gama3+gama5+gama6\n",
    "    \n",
    "    for i in range(0,K.shape[0]):        \n",
    "        I1 = np.trace(np.matmul(b[i,:,:],np.transpose(Sij[i,:,:])))\n",
    "        I2 = np.trace(np.matmul(np.matmul(b[i,:,:],b[i,:,:]),np.transpose(Sij[i,:,:])))\n",
    "        I3 = np.trace(np.matmul(b[i,:,:],b[i,:,:]))\n",
    "        I4 = np.trace(np.matmul(np.matmul(b[i,:,:],b[i,:,:]),b[i,:,:]))\n",
    "        alpha1 = -gama_star*I2-(beta2+beta3+1.0/3*gama_star)*I1-I4*alpha3-I3*(alpha2+1.0/3*alpha3)-0.5-3.0/4*C0\n",
    "        #-1.0/3*(beta2+beta3)*np.trace(Sij[i,:,:])        \n",
    "        \n",
    "        #pred[:,:,i] = (alpha1*np.eye(3,3)+alpha2*b[i,:,:]+alpha3*np.matmul(b[i,:,:],b[i,:,:])) + \\\n",
    "        #beta1*np.eye(3,3)*np.trace(meanVelGrad[:,:,i]) + beta2*meanVelGrad[:,:,i] +beta3*np.transpose(meanVelGrad[:,:,i]) + \\\n",
    "        #gama2*np.transpose(np.matmul(b[i,:,:],np.transpose(Sij[i,:,:]))) + gama3*np.transpose(np.matmul(b[i,:,:],Sij[i,:,:])) + \\\n",
    "        #gama5*np.matmul(b[i,:,:],Sij[i,:,:]) + gama6*np.matmul(b[i,:,:],np.transpose(Sij[i,:,:]))\n",
    "        \n",
    "        #pred[:,:,i] = pred[:,:,i]*eps[i]/K[i]\n",
    "        pred[:,:,i] = alpha1*np.eye(3,3)+alpha2*b[i,:,:]+alpha3*np.matmul(b[i,:,:],b[i,:,:])  + \\\n",
    "        (beta2+beta3)*Sij[i,:,:]+(beta2-beta3)*omega[i,:,:]+(gama2+gama3)*np.matmul(Sij[i,:,:],b[i,:,:]) + \\\n",
    "        (gama2-gama3)*np.matmul(omega[i,:,:],b[i,:,:])+(gama5+gama6)*np.matmul(b[i,:,:],Sij[i,:,:]) + \\\n",
    "        (gama5-gama6)*np.matmul(b[i,:,:],omega[i,:,:])\n",
    "        \n",
    "        pred[:,:,i] = pred[:,:,i]*eps[i]/K[i]\n",
    "        \n",
    "        pred[:,:,i] = pred[:,:,i]+0.5*C0*eps[i]/K[i]*lambdaij[i,:,:]\n",
    "        \n",
    "    return pred"
   ]
  },
  {
   "cell_type": "code",
   "execution_count": null,
   "metadata": {},
   "outputs": [],
   "source": [
    "def LIPM_model(C0,CIPM,alpha2,alpha3,beta1,beta2,beta3,gama5,gama6,lambdaij):\n",
    "    pred = np.zeros((3,3,K.shape[0]))\n",
    "    for i in range(0,K.shape[0]):        \n",
    "        P = - 0.5*np.trace(np.matmul(Tij[:,:,i],np.transpose(meanVelGrad[:,:,i])) + np.transpose(np.matmul(Tij[:,:,i],np.transpose(meanVelGrad[:,:,i]))))\n",
    "        B3 = np.matmul(np.matmul(b[i,:,:],b[i,:,:]),b[i,:,:])\n",
    "        \n",
    "        alpha1 = -(0.5+3.0/4*C0)+3.0*alpha2*np.trace(B3)+0.5*CIPM*P #P is non dim so no omega here\n",
    "        \n",
    "        pred[:,:,i] = alpha1*np.eye(3,3)+alpha2*b[i,:,:] + alpha3*np.matmul(b[i,:,:],b[i,:,:]) + beta1*np.eye(3,3)*np.trace(meanVelGrad[:,:,i]) + \\\n",
    "        beta2*meanVelGrad[:,:,i] + beta3*np.transpose(meanVelGrad[:,:,i]) + gama5*np.matmul(b[i,:,:],meanVelGrad[:,:,i]) + \\\n",
    "        gama6*np.matmul(b[i,:,:],np.transpose(meanVelGrad[:,:,i]))\n",
    "        pred[:,:,i] = pred[:,:,i]*eps[i]/K[i]\n",
    "        #temp commented to get Gij intead of Gijp\n",
    "        #pred[:,:,i] = pred[:,:,i]+0.5*C0*eps[i]/K[i]*lambdaij[i,:,:]\n",
    "    return pred\n",
    "\n"
   ]
  },
  {
   "cell_type": "code",
   "execution_count": null,
   "metadata": {},
   "outputs": [],
   "source": [
    "def LSSG_model(C0,C2SSG,C3SSG,C3SSGp,C3starSSG,C5SSG,lambdaij):\n",
    "    pred = np.zeros((3,3,K.shape[0]))\n",
    "    for i in range(0,K.shape[0]):        \n",
    "        P = - 0.5*np.trace(np.matmul(Tij[:,:,i],np.transpose(meanVelGrad[:,:,i])) + np.transpose(np.matmul(Tij[:,:,i],np.transpose(meanVelGrad[:,:,i]))))\n",
    "        B3 = np.matmul(np.matmul(b[i,:,:],b[i,:,:]),b[i,:,:])\n",
    "        alpha2 = 4.0-1.7*P\n",
    "        alpha1 = -(0.5+3.0/4*C0)-1.0/4*C2SSG*np.trace(np.matmul(b[i,:,:],b[i,:,:])) + \\\n",
    "        (3.0*alpha2-3.0/4*C2SSG)*np.trace(B3) + 3.0/8*(C3SSG-C3starSSG*np.sqrt(np.trace(np.matmul(b[i,:,:],b[i,:,:]))))*P #P is non dim so no omega here\n",
    "        alpha3 = 3.0/4*C2SSG-3.0*alpha2\n",
    "        beta1 = -0.2\n",
    "        beta2 = 3.0/8*(C3SSG-C3SSGp*np.sqrt(np.trace(np.matmul(b[i,:,:],b[i,:,:]))))+0.5\n",
    "        beta3 = 3.0/8*(C3SSG-C3SSGp*np.sqrt(np.trace(np.matmul(b[i,:,:],b[i,:,:]))))-0.5\n",
    "        gama5 = 3.0/2-3.0/4*C5SSG\n",
    "        gama6 = -3.0/2+3.0/4*C5SSG\n",
    "        \n",
    "        pred[:,:,i] = alpha1*np.eye(3,3)+alpha2*b[i,:,:] + alpha3*np.matmul(b[i,:,:],b[i,:,:]) + beta1*np.eye(3,3)*np.trace(meanVelGrad[:,:,i]) + \\\n",
    "        beta2*meanVelGrad[:,:,i] + beta3*np.transpose(meanVelGrad[:,:,i]) + gama5*np.matmul(b[i,:,:],meanVelGrad[:,:,i]) + \\\n",
    "        gama6*np.matmul(b[i,:,:],np.transpose(meanVelGrad[:,:,i]))\n",
    "        \n",
    "        pred[:,:,i] = pred[:,:,i]*eps[i]/K[i]   \n",
    "        #temp commented to get Gij intead of Gijp\n",
    "\n",
    "        pred[:,:,i] = pred[:,:,i]+0.5*C0*eps[i]/K[i]*lambdaij[i,:,:] # Output Gij(p)\n",
    "    return pred\n",
    "\n",
    "    "
   ]
  },
  {
   "cell_type": "code",
   "execution_count": null,
   "metadata": {},
   "outputs": [],
   "source": [
    "LIPM = LIPM_model(2.1,0.6,3.5,-3*3.5,-0.2,0.8,-0.2,0.6,-0.6,lambdaij)"
   ]
  },
  {
   "cell_type": "code",
   "execution_count": null,
   "metadata": {},
   "outputs": [],
   "source": [
    "LSSG = LSSG_model(2.1,4.2,0.8,1.0,1.0,0.4,lambdaij)"
   ]
  },
  {
   "cell_type": "code",
   "execution_count": null,
   "metadata": {},
   "outputs": [],
   "source": [
    "lambdaij.shape"
   ]
  },
  {
   "cell_type": "code",
   "execution_count": null,
   "metadata": {},
   "outputs": [],
   "source": [
    "def SLM_model(C0,lambdaij):\n",
    "    pred = np.zeros((3,3,K.shape[0]))\n",
    "    for i in range(0,K.shape[0]):    \n",
    "            pred[:,:,i] = -(0.5+3.0/4*C0)*eps[i]/K[i]*np.eye(3,3) + 0.5*C0*eps[i]/K[i]*lambdaij[i,:,:]\n",
    "    return pred\n",
    "        \n",
    "    \n",
    "    \n"
   ]
  },
  {
   "cell_type": "code",
   "execution_count": null,
   "metadata": {},
   "outputs": [],
   "source": [
    "LIPM.shape"
   ]
  },
  {
   "cell_type": "code",
   "execution_count": null,
   "metadata": {},
   "outputs": [],
   "source": [
    "plt.figure()\n",
    "plt.plot(LIPM[0,1,:])\n",
    "plt.plot(LSSG[0,1,:])\n",
    "plt.plot(Gij[0,1,:]*eps/K)\n",
    "plt.legend(('LIPM','LSSG','DNS'))\n",
    "#plt.savefig('models_comp.png',dpi=300,bbox_inches = \"tight\")        "
   ]
  },
  {
   "cell_type": "code",
   "execution_count": null,
   "metadata": {},
   "outputs": [],
   "source": [
    "slm = SLM_model(2.1,lambdaij)"
   ]
  },
  {
   "cell_type": "code",
   "execution_count": null,
   "metadata": {},
   "outputs": [],
   "source": [
    "C = np.trace(slm,axis1=0,axis2=1)"
   ]
  },
  {
   "cell_type": "code",
   "execution_count": null,
   "metadata": {},
   "outputs": [],
   "source": [
    "C=-(0.5+3.0/4*2.1)*eps[300]/K[300]*np.eye(3,3)+0.5*2.1*eps[300]*lambdaij[300,:,:]"
   ]
  },
  {
   "cell_type": "code",
   "execution_count": null,
   "metadata": {},
   "outputs": [],
   "source": [
    "D = np.reshape(Tij[300,:],(3,3))"
   ]
  },
  {
   "cell_type": "code",
   "execution_count": null,
   "metadata": {},
   "outputs": [],
   "source": [
    "lambdaij[300,:,:]"
   ]
  },
  {
   "cell_type": "code",
   "execution_count": null,
   "metadata": {},
   "outputs": [],
   "source": []
  },
  {
   "cell_type": "code",
   "execution_count": null,
   "metadata": {},
   "outputs": [],
   "source": [
    "p=0\n",
    "for i in range(0,3):\n",
    "    for j in range(0,3):\n",
    "        #p = p+C[i,j]*D[i,j]\n",
    "        p = p + C[i,j]*D[i,j]\n",
    "        "
   ]
  },
  {
   "cell_type": "code",
   "execution_count": null,
   "metadata": {},
   "outputs": [],
   "source": [
    "p"
   ]
  },
  {
   "cell_type": "code",
   "execution_count": null,
   "metadata": {},
   "outputs": [],
   "source": [
    "eps[300]"
   ]
  },
  {
   "cell_type": "code",
   "execution_count": null,
   "metadata": {},
   "outputs": [],
   "source": [
    "C[0,0]*D[0,0]+C[1,1]*D[1,1]+C[2,2]*D[2,2]"
   ]
  },
  {
   "cell_type": "code",
   "execution_count": null,
   "metadata": {},
   "outputs": [],
   "source": [
    "eps[300]"
   ]
  },
  {
   "cell_type": "code",
   "execution_count": null,
   "metadata": {},
   "outputs": [],
   "source": [
    "slm[:,:,300]"
   ]
  },
  {
   "cell_type": "code",
   "execution_count": null,
   "metadata": {},
   "outputs": [],
   "source": [
    "np.matmul(lambdaij[300,:,:],Tij[:,:,300])"
   ]
  },
  {
   "cell_type": "code",
   "execution_count": null,
   "metadata": {},
   "outputs": [],
   "source": [
    "Gij.shape"
   ]
  },
  {
   "cell_type": "code",
   "execution_count": null,
   "metadata": {},
   "outputs": [],
   "source": [
    "pred = np.zeros((K.shape[0]))\n",
    "for i in range(0,3):\n",
    "    for j in range(0,3):\n",
    "        pred = pred + Gij[i,j,:]*Tij[i,j,:]"
   ]
  },
  {
   "cell_type": "code",
   "execution_count": null,
   "metadata": {},
   "outputs": [],
   "source": [
    "\n",
    "plt.figure()\n",
    "plt.plot(pred*eps)\n",
    "#plt.plot(pred2)\n",
    "plt.plot(-eps)\n"
   ]
  },
  {
   "cell_type": "code",
   "execution_count": null,
   "metadata": {},
   "outputs": [],
   "source": [
    "mod1 = HP_models(2.1,3.7,0,4.0/5,-1.0/5,3.01,-2.18,4.29,-3.09,lambdaij)\n",
    "mod2 = HP_models(2.1,3.8,0,4.0/5,-1.0/5,1.04,-0.34,1.99,-0.76,lambdaij)"
   ]
  },
  {
   "cell_type": "code",
   "execution_count": null,
   "metadata": {},
   "outputs": [],
   "source": [
    "plt.figure()\n",
    "#plt.plot(mod2[0,0,:])\n",
    "#plt.plot(mod1[0,0,:])\n",
    "#plt.plot(LIPM[2,2,:])\n",
    "plt.plot(LSSG[0,0,:]+LSSG[1,1,:]+LSSG[2,2,:])\n",
    "#plt.plot(Gij[0,1,:]*eps/K)\n",
    "#plt.plot((mod1[0,0,:]+mod1[1,1,:]+mod1[2,2,:])*0.5)\n",
    "#plt.plot(mod1[0,0,:]+mod1[1,1,:]+mod1[2,2,:])\n",
    "#plt.plot(-pred*0.25)\n",
    "plt.plot(-eps)\n",
    "#plt.plot(Gij[1,0,:]*eps/K)"
   ]
  },
  {
   "cell_type": "code",
   "execution_count": null,
   "metadata": {},
   "outputs": [],
   "source": [
    "plt.figure()\n",
    "plt.plot(lambdaij[:,0,0]/K)"
   ]
  },
  {
   "cell_type": "code",
   "execution_count": null,
   "metadata": {},
   "outputs": [],
   "source": [
    "Gij = np.loadtxt('../GLM/Gij.dat')\n",
    "Tij = np.loadtxt('../GLM/Tij.dat')\n",
    "accu = np.loadtxt('../GLM/accu.dat')\n"
   ]
  },
  {
   "cell_type": "code",
   "execution_count": null,
   "metadata": {},
   "outputs": [],
   "source": [
    "Gij = np.reshape(Gij,(Gij.shape[0],3,3))\n",
    "Tij = np.reshape(Tij,(Tij.shape[0],3,3))\n",
    "accu= np.reshape(accu,(accu.shape[0],3,3))"
   ]
  },
  {
   "cell_type": "code",
   "execution_count": null,
   "metadata": {},
   "outputs": [],
   "source": [
    "pred = np.zeros((Gij.shape[0],3,3))\n",
    "for i in range(0,Gij.shape[0]):\n",
    "    pred[i,:,:] = np.matmul(Gij[i,:,:],Tij[i,:,:]) + np.transpose(np.matmul(Gij[i,:,:],np.transpose(Tij[i,:,:])))\n",
    "    \n",
    "    "
   ]
  },
  {
   "cell_type": "code",
   "execution_count": null,
   "metadata": {},
   "outputs": [],
   "source": [
    "plt.figure()\n",
    "plt.plot(pred[:,0,1])\n",
    "plt.plot(accu[:,0,1]+accu[:,1,0])"
   ]
  }
 ],
 "metadata": {
  "kernelspec": {
   "display_name": "Python 3",
   "language": "python",
   "name": "python3"
  },
  "language_info": {
   "codemirror_mode": {
    "name": "ipython",
    "version": 3
   },
   "file_extension": ".py",
   "mimetype": "text/x-python",
   "name": "python",
   "nbconvert_exporter": "python",
   "pygments_lexer": "ipython3",
   "version": "3.6.8"
  }
 },
 "nbformat": 4,
 "nbformat_minor": 2
}
